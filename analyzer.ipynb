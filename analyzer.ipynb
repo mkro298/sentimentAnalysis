{
  "nbformat": 4,
  "nbformat_minor": 0,
  "metadata": {
    "colab": {
      "provenance": [],
      "gpuType": "T4",
      "include_colab_link": true
    },
    "kernelspec": {
      "name": "python3",
      "display_name": "Python 3"
    },
    "language_info": {
      "name": "python"
    },
    "accelerator": "GPU",
    "widgets": {
      "application/vnd.jupyter.widget-state+json": {
        "c6e754e2848944459ec5d1907075776a": {
          "model_module": "@jupyter-widgets/controls",
          "model_name": "HBoxModel",
          "model_module_version": "1.5.0",
          "state": {
            "_dom_classes": [],
            "_model_module": "@jupyter-widgets/controls",
            "_model_module_version": "1.5.0",
            "_model_name": "HBoxModel",
            "_view_count": null,
            "_view_module": "@jupyter-widgets/controls",
            "_view_module_version": "1.5.0",
            "_view_name": "HBoxView",
            "box_style": "",
            "children": [
              "IPY_MODEL_eedede5a747d4c3aa42dfdc28c58d2fc",
              "IPY_MODEL_b86c52cf0fc94185838cf1161aeae11d",
              "IPY_MODEL_c2cdffbfd012495d88cb4ab4fc1b905a"
            ],
            "layout": "IPY_MODEL_e03e08d36e564fb78a3f74302dea4641"
          }
        },
        "eedede5a747d4c3aa42dfdc28c58d2fc": {
          "model_module": "@jupyter-widgets/controls",
          "model_name": "HTMLModel",
          "model_module_version": "1.5.0",
          "state": {
            "_dom_classes": [],
            "_model_module": "@jupyter-widgets/controls",
            "_model_module_version": "1.5.0",
            "_model_name": "HTMLModel",
            "_view_count": null,
            "_view_module": "@jupyter-widgets/controls",
            "_view_module_version": "1.5.0",
            "_view_name": "HTMLView",
            "description": "",
            "description_tooltip": null,
            "layout": "IPY_MODEL_bd2c7fee01454ac6928922e9ffeed11e",
            "placeholder": "​",
            "style": "IPY_MODEL_d432f6bc2b60443ba6506c866a661081",
            "value": "tokenizer_config.json: 100%"
          }
        },
        "b86c52cf0fc94185838cf1161aeae11d": {
          "model_module": "@jupyter-widgets/controls",
          "model_name": "FloatProgressModel",
          "model_module_version": "1.5.0",
          "state": {
            "_dom_classes": [],
            "_model_module": "@jupyter-widgets/controls",
            "_model_module_version": "1.5.0",
            "_model_name": "FloatProgressModel",
            "_view_count": null,
            "_view_module": "@jupyter-widgets/controls",
            "_view_module_version": "1.5.0",
            "_view_name": "ProgressView",
            "bar_style": "success",
            "description": "",
            "description_tooltip": null,
            "layout": "IPY_MODEL_b58050bc2cf94ca1ac0ea932bf4f10ee",
            "max": 48,
            "min": 0,
            "orientation": "horizontal",
            "style": "IPY_MODEL_0487efd342154babafdf75f65c154e99",
            "value": 48
          }
        },
        "c2cdffbfd012495d88cb4ab4fc1b905a": {
          "model_module": "@jupyter-widgets/controls",
          "model_name": "HTMLModel",
          "model_module_version": "1.5.0",
          "state": {
            "_dom_classes": [],
            "_model_module": "@jupyter-widgets/controls",
            "_model_module_version": "1.5.0",
            "_model_name": "HTMLModel",
            "_view_count": null,
            "_view_module": "@jupyter-widgets/controls",
            "_view_module_version": "1.5.0",
            "_view_name": "HTMLView",
            "description": "",
            "description_tooltip": null,
            "layout": "IPY_MODEL_c25fa2148ea54494a221b1cc136e4670",
            "placeholder": "​",
            "style": "IPY_MODEL_edd68eb5fbb547a1ab21fb7c41e087dd",
            "value": " 48.0/48.0 [00:00&lt;00:00, 3.14kB/s]"
          }
        },
        "e03e08d36e564fb78a3f74302dea4641": {
          "model_module": "@jupyter-widgets/base",
          "model_name": "LayoutModel",
          "model_module_version": "1.2.0",
          "state": {
            "_model_module": "@jupyter-widgets/base",
            "_model_module_version": "1.2.0",
            "_model_name": "LayoutModel",
            "_view_count": null,
            "_view_module": "@jupyter-widgets/base",
            "_view_module_version": "1.2.0",
            "_view_name": "LayoutView",
            "align_content": null,
            "align_items": null,
            "align_self": null,
            "border": null,
            "bottom": null,
            "display": null,
            "flex": null,
            "flex_flow": null,
            "grid_area": null,
            "grid_auto_columns": null,
            "grid_auto_flow": null,
            "grid_auto_rows": null,
            "grid_column": null,
            "grid_gap": null,
            "grid_row": null,
            "grid_template_areas": null,
            "grid_template_columns": null,
            "grid_template_rows": null,
            "height": null,
            "justify_content": null,
            "justify_items": null,
            "left": null,
            "margin": null,
            "max_height": null,
            "max_width": null,
            "min_height": null,
            "min_width": null,
            "object_fit": null,
            "object_position": null,
            "order": null,
            "overflow": null,
            "overflow_x": null,
            "overflow_y": null,
            "padding": null,
            "right": null,
            "top": null,
            "visibility": null,
            "width": null
          }
        },
        "bd2c7fee01454ac6928922e9ffeed11e": {
          "model_module": "@jupyter-widgets/base",
          "model_name": "LayoutModel",
          "model_module_version": "1.2.0",
          "state": {
            "_model_module": "@jupyter-widgets/base",
            "_model_module_version": "1.2.0",
            "_model_name": "LayoutModel",
            "_view_count": null,
            "_view_module": "@jupyter-widgets/base",
            "_view_module_version": "1.2.0",
            "_view_name": "LayoutView",
            "align_content": null,
            "align_items": null,
            "align_self": null,
            "border": null,
            "bottom": null,
            "display": null,
            "flex": null,
            "flex_flow": null,
            "grid_area": null,
            "grid_auto_columns": null,
            "grid_auto_flow": null,
            "grid_auto_rows": null,
            "grid_column": null,
            "grid_gap": null,
            "grid_row": null,
            "grid_template_areas": null,
            "grid_template_columns": null,
            "grid_template_rows": null,
            "height": null,
            "justify_content": null,
            "justify_items": null,
            "left": null,
            "margin": null,
            "max_height": null,
            "max_width": null,
            "min_height": null,
            "min_width": null,
            "object_fit": null,
            "object_position": null,
            "order": null,
            "overflow": null,
            "overflow_x": null,
            "overflow_y": null,
            "padding": null,
            "right": null,
            "top": null,
            "visibility": null,
            "width": null
          }
        },
        "d432f6bc2b60443ba6506c866a661081": {
          "model_module": "@jupyter-widgets/controls",
          "model_name": "DescriptionStyleModel",
          "model_module_version": "1.5.0",
          "state": {
            "_model_module": "@jupyter-widgets/controls",
            "_model_module_version": "1.5.0",
            "_model_name": "DescriptionStyleModel",
            "_view_count": null,
            "_view_module": "@jupyter-widgets/base",
            "_view_module_version": "1.2.0",
            "_view_name": "StyleView",
            "description_width": ""
          }
        },
        "b58050bc2cf94ca1ac0ea932bf4f10ee": {
          "model_module": "@jupyter-widgets/base",
          "model_name": "LayoutModel",
          "model_module_version": "1.2.0",
          "state": {
            "_model_module": "@jupyter-widgets/base",
            "_model_module_version": "1.2.0",
            "_model_name": "LayoutModel",
            "_view_count": null,
            "_view_module": "@jupyter-widgets/base",
            "_view_module_version": "1.2.0",
            "_view_name": "LayoutView",
            "align_content": null,
            "align_items": null,
            "align_self": null,
            "border": null,
            "bottom": null,
            "display": null,
            "flex": null,
            "flex_flow": null,
            "grid_area": null,
            "grid_auto_columns": null,
            "grid_auto_flow": null,
            "grid_auto_rows": null,
            "grid_column": null,
            "grid_gap": null,
            "grid_row": null,
            "grid_template_areas": null,
            "grid_template_columns": null,
            "grid_template_rows": null,
            "height": null,
            "justify_content": null,
            "justify_items": null,
            "left": null,
            "margin": null,
            "max_height": null,
            "max_width": null,
            "min_height": null,
            "min_width": null,
            "object_fit": null,
            "object_position": null,
            "order": null,
            "overflow": null,
            "overflow_x": null,
            "overflow_y": null,
            "padding": null,
            "right": null,
            "top": null,
            "visibility": null,
            "width": null
          }
        },
        "0487efd342154babafdf75f65c154e99": {
          "model_module": "@jupyter-widgets/controls",
          "model_name": "ProgressStyleModel",
          "model_module_version": "1.5.0",
          "state": {
            "_model_module": "@jupyter-widgets/controls",
            "_model_module_version": "1.5.0",
            "_model_name": "ProgressStyleModel",
            "_view_count": null,
            "_view_module": "@jupyter-widgets/base",
            "_view_module_version": "1.2.0",
            "_view_name": "StyleView",
            "bar_color": null,
            "description_width": ""
          }
        },
        "c25fa2148ea54494a221b1cc136e4670": {
          "model_module": "@jupyter-widgets/base",
          "model_name": "LayoutModel",
          "model_module_version": "1.2.0",
          "state": {
            "_model_module": "@jupyter-widgets/base",
            "_model_module_version": "1.2.0",
            "_model_name": "LayoutModel",
            "_view_count": null,
            "_view_module": "@jupyter-widgets/base",
            "_view_module_version": "1.2.0",
            "_view_name": "LayoutView",
            "align_content": null,
            "align_items": null,
            "align_self": null,
            "border": null,
            "bottom": null,
            "display": null,
            "flex": null,
            "flex_flow": null,
            "grid_area": null,
            "grid_auto_columns": null,
            "grid_auto_flow": null,
            "grid_auto_rows": null,
            "grid_column": null,
            "grid_gap": null,
            "grid_row": null,
            "grid_template_areas": null,
            "grid_template_columns": null,
            "grid_template_rows": null,
            "height": null,
            "justify_content": null,
            "justify_items": null,
            "left": null,
            "margin": null,
            "max_height": null,
            "max_width": null,
            "min_height": null,
            "min_width": null,
            "object_fit": null,
            "object_position": null,
            "order": null,
            "overflow": null,
            "overflow_x": null,
            "overflow_y": null,
            "padding": null,
            "right": null,
            "top": null,
            "visibility": null,
            "width": null
          }
        },
        "edd68eb5fbb547a1ab21fb7c41e087dd": {
          "model_module": "@jupyter-widgets/controls",
          "model_name": "DescriptionStyleModel",
          "model_module_version": "1.5.0",
          "state": {
            "_model_module": "@jupyter-widgets/controls",
            "_model_module_version": "1.5.0",
            "_model_name": "DescriptionStyleModel",
            "_view_count": null,
            "_view_module": "@jupyter-widgets/base",
            "_view_module_version": "1.2.0",
            "_view_name": "StyleView",
            "description_width": ""
          }
        },
        "9b18dcece9544271a13a363a32196d7a": {
          "model_module": "@jupyter-widgets/controls",
          "model_name": "HBoxModel",
          "model_module_version": "1.5.0",
          "state": {
            "_dom_classes": [],
            "_model_module": "@jupyter-widgets/controls",
            "_model_module_version": "1.5.0",
            "_model_name": "HBoxModel",
            "_view_count": null,
            "_view_module": "@jupyter-widgets/controls",
            "_view_module_version": "1.5.0",
            "_view_name": "HBoxView",
            "box_style": "",
            "children": [
              "IPY_MODEL_e36ccd243ae940259379e906b60a06c0",
              "IPY_MODEL_19dcc8fdf0324587b84b04d666e71584",
              "IPY_MODEL_3d2a2f76aea444b6869a19afeb336a0c"
            ],
            "layout": "IPY_MODEL_cf9dd514d64245d8aaf37d4b9477609f"
          }
        },
        "e36ccd243ae940259379e906b60a06c0": {
          "model_module": "@jupyter-widgets/controls",
          "model_name": "HTMLModel",
          "model_module_version": "1.5.0",
          "state": {
            "_dom_classes": [],
            "_model_module": "@jupyter-widgets/controls",
            "_model_module_version": "1.5.0",
            "_model_name": "HTMLModel",
            "_view_count": null,
            "_view_module": "@jupyter-widgets/controls",
            "_view_module_version": "1.5.0",
            "_view_name": "HTMLView",
            "description": "",
            "description_tooltip": null,
            "layout": "IPY_MODEL_e047f67d80f44a5dac5d879281c49c1a",
            "placeholder": "​",
            "style": "IPY_MODEL_6648238531c44ce2ac61c30b6bc57a19",
            "value": "vocab.txt: 100%"
          }
        },
        "19dcc8fdf0324587b84b04d666e71584": {
          "model_module": "@jupyter-widgets/controls",
          "model_name": "FloatProgressModel",
          "model_module_version": "1.5.0",
          "state": {
            "_dom_classes": [],
            "_model_module": "@jupyter-widgets/controls",
            "_model_module_version": "1.5.0",
            "_model_name": "FloatProgressModel",
            "_view_count": null,
            "_view_module": "@jupyter-widgets/controls",
            "_view_module_version": "1.5.0",
            "_view_name": "ProgressView",
            "bar_style": "success",
            "description": "",
            "description_tooltip": null,
            "layout": "IPY_MODEL_8536d367477f436ca664ff146b3e8a6a",
            "max": 231508,
            "min": 0,
            "orientation": "horizontal",
            "style": "IPY_MODEL_4f883489d7974119a24f6bf3d25fed1e",
            "value": 231508
          }
        },
        "3d2a2f76aea444b6869a19afeb336a0c": {
          "model_module": "@jupyter-widgets/controls",
          "model_name": "HTMLModel",
          "model_module_version": "1.5.0",
          "state": {
            "_dom_classes": [],
            "_model_module": "@jupyter-widgets/controls",
            "_model_module_version": "1.5.0",
            "_model_name": "HTMLModel",
            "_view_count": null,
            "_view_module": "@jupyter-widgets/controls",
            "_view_module_version": "1.5.0",
            "_view_name": "HTMLView",
            "description": "",
            "description_tooltip": null,
            "layout": "IPY_MODEL_fb75fb9d0a014980adf6d6f0f29c94d1",
            "placeholder": "​",
            "style": "IPY_MODEL_4d0e254c60ac4cce9b85bf7c44b8b29d",
            "value": " 232k/232k [00:00&lt;00:00, 3.46MB/s]"
          }
        },
        "cf9dd514d64245d8aaf37d4b9477609f": {
          "model_module": "@jupyter-widgets/base",
          "model_name": "LayoutModel",
          "model_module_version": "1.2.0",
          "state": {
            "_model_module": "@jupyter-widgets/base",
            "_model_module_version": "1.2.0",
            "_model_name": "LayoutModel",
            "_view_count": null,
            "_view_module": "@jupyter-widgets/base",
            "_view_module_version": "1.2.0",
            "_view_name": "LayoutView",
            "align_content": null,
            "align_items": null,
            "align_self": null,
            "border": null,
            "bottom": null,
            "display": null,
            "flex": null,
            "flex_flow": null,
            "grid_area": null,
            "grid_auto_columns": null,
            "grid_auto_flow": null,
            "grid_auto_rows": null,
            "grid_column": null,
            "grid_gap": null,
            "grid_row": null,
            "grid_template_areas": null,
            "grid_template_columns": null,
            "grid_template_rows": null,
            "height": null,
            "justify_content": null,
            "justify_items": null,
            "left": null,
            "margin": null,
            "max_height": null,
            "max_width": null,
            "min_height": null,
            "min_width": null,
            "object_fit": null,
            "object_position": null,
            "order": null,
            "overflow": null,
            "overflow_x": null,
            "overflow_y": null,
            "padding": null,
            "right": null,
            "top": null,
            "visibility": null,
            "width": null
          }
        },
        "e047f67d80f44a5dac5d879281c49c1a": {
          "model_module": "@jupyter-widgets/base",
          "model_name": "LayoutModel",
          "model_module_version": "1.2.0",
          "state": {
            "_model_module": "@jupyter-widgets/base",
            "_model_module_version": "1.2.0",
            "_model_name": "LayoutModel",
            "_view_count": null,
            "_view_module": "@jupyter-widgets/base",
            "_view_module_version": "1.2.0",
            "_view_name": "LayoutView",
            "align_content": null,
            "align_items": null,
            "align_self": null,
            "border": null,
            "bottom": null,
            "display": null,
            "flex": null,
            "flex_flow": null,
            "grid_area": null,
            "grid_auto_columns": null,
            "grid_auto_flow": null,
            "grid_auto_rows": null,
            "grid_column": null,
            "grid_gap": null,
            "grid_row": null,
            "grid_template_areas": null,
            "grid_template_columns": null,
            "grid_template_rows": null,
            "height": null,
            "justify_content": null,
            "justify_items": null,
            "left": null,
            "margin": null,
            "max_height": null,
            "max_width": null,
            "min_height": null,
            "min_width": null,
            "object_fit": null,
            "object_position": null,
            "order": null,
            "overflow": null,
            "overflow_x": null,
            "overflow_y": null,
            "padding": null,
            "right": null,
            "top": null,
            "visibility": null,
            "width": null
          }
        },
        "6648238531c44ce2ac61c30b6bc57a19": {
          "model_module": "@jupyter-widgets/controls",
          "model_name": "DescriptionStyleModel",
          "model_module_version": "1.5.0",
          "state": {
            "_model_module": "@jupyter-widgets/controls",
            "_model_module_version": "1.5.0",
            "_model_name": "DescriptionStyleModel",
            "_view_count": null,
            "_view_module": "@jupyter-widgets/base",
            "_view_module_version": "1.2.0",
            "_view_name": "StyleView",
            "description_width": ""
          }
        },
        "8536d367477f436ca664ff146b3e8a6a": {
          "model_module": "@jupyter-widgets/base",
          "model_name": "LayoutModel",
          "model_module_version": "1.2.0",
          "state": {
            "_model_module": "@jupyter-widgets/base",
            "_model_module_version": "1.2.0",
            "_model_name": "LayoutModel",
            "_view_count": null,
            "_view_module": "@jupyter-widgets/base",
            "_view_module_version": "1.2.0",
            "_view_name": "LayoutView",
            "align_content": null,
            "align_items": null,
            "align_self": null,
            "border": null,
            "bottom": null,
            "display": null,
            "flex": null,
            "flex_flow": null,
            "grid_area": null,
            "grid_auto_columns": null,
            "grid_auto_flow": null,
            "grid_auto_rows": null,
            "grid_column": null,
            "grid_gap": null,
            "grid_row": null,
            "grid_template_areas": null,
            "grid_template_columns": null,
            "grid_template_rows": null,
            "height": null,
            "justify_content": null,
            "justify_items": null,
            "left": null,
            "margin": null,
            "max_height": null,
            "max_width": null,
            "min_height": null,
            "min_width": null,
            "object_fit": null,
            "object_position": null,
            "order": null,
            "overflow": null,
            "overflow_x": null,
            "overflow_y": null,
            "padding": null,
            "right": null,
            "top": null,
            "visibility": null,
            "width": null
          }
        },
        "4f883489d7974119a24f6bf3d25fed1e": {
          "model_module": "@jupyter-widgets/controls",
          "model_name": "ProgressStyleModel",
          "model_module_version": "1.5.0",
          "state": {
            "_model_module": "@jupyter-widgets/controls",
            "_model_module_version": "1.5.0",
            "_model_name": "ProgressStyleModel",
            "_view_count": null,
            "_view_module": "@jupyter-widgets/base",
            "_view_module_version": "1.2.0",
            "_view_name": "StyleView",
            "bar_color": null,
            "description_width": ""
          }
        },
        "fb75fb9d0a014980adf6d6f0f29c94d1": {
          "model_module": "@jupyter-widgets/base",
          "model_name": "LayoutModel",
          "model_module_version": "1.2.0",
          "state": {
            "_model_module": "@jupyter-widgets/base",
            "_model_module_version": "1.2.0",
            "_model_name": "LayoutModel",
            "_view_count": null,
            "_view_module": "@jupyter-widgets/base",
            "_view_module_version": "1.2.0",
            "_view_name": "LayoutView",
            "align_content": null,
            "align_items": null,
            "align_self": null,
            "border": null,
            "bottom": null,
            "display": null,
            "flex": null,
            "flex_flow": null,
            "grid_area": null,
            "grid_auto_columns": null,
            "grid_auto_flow": null,
            "grid_auto_rows": null,
            "grid_column": null,
            "grid_gap": null,
            "grid_row": null,
            "grid_template_areas": null,
            "grid_template_columns": null,
            "grid_template_rows": null,
            "height": null,
            "justify_content": null,
            "justify_items": null,
            "left": null,
            "margin": null,
            "max_height": null,
            "max_width": null,
            "min_height": null,
            "min_width": null,
            "object_fit": null,
            "object_position": null,
            "order": null,
            "overflow": null,
            "overflow_x": null,
            "overflow_y": null,
            "padding": null,
            "right": null,
            "top": null,
            "visibility": null,
            "width": null
          }
        },
        "4d0e254c60ac4cce9b85bf7c44b8b29d": {
          "model_module": "@jupyter-widgets/controls",
          "model_name": "DescriptionStyleModel",
          "model_module_version": "1.5.0",
          "state": {
            "_model_module": "@jupyter-widgets/controls",
            "_model_module_version": "1.5.0",
            "_model_name": "DescriptionStyleModel",
            "_view_count": null,
            "_view_module": "@jupyter-widgets/base",
            "_view_module_version": "1.2.0",
            "_view_name": "StyleView",
            "description_width": ""
          }
        },
        "07a91f948ab8481c91ac5ae8b9b41a99": {
          "model_module": "@jupyter-widgets/controls",
          "model_name": "HBoxModel",
          "model_module_version": "1.5.0",
          "state": {
            "_dom_classes": [],
            "_model_module": "@jupyter-widgets/controls",
            "_model_module_version": "1.5.0",
            "_model_name": "HBoxModel",
            "_view_count": null,
            "_view_module": "@jupyter-widgets/controls",
            "_view_module_version": "1.5.0",
            "_view_name": "HBoxView",
            "box_style": "",
            "children": [
              "IPY_MODEL_48fa68ec8fa44618ae2f071d1975a36b",
              "IPY_MODEL_4eb3bcda8a47432481cba917ecac4cba",
              "IPY_MODEL_0769d6548c744dc7b619070739a88d4b"
            ],
            "layout": "IPY_MODEL_3f4b4e7af9b74002aedc995d9b7d52d6"
          }
        },
        "48fa68ec8fa44618ae2f071d1975a36b": {
          "model_module": "@jupyter-widgets/controls",
          "model_name": "HTMLModel",
          "model_module_version": "1.5.0",
          "state": {
            "_dom_classes": [],
            "_model_module": "@jupyter-widgets/controls",
            "_model_module_version": "1.5.0",
            "_model_name": "HTMLModel",
            "_view_count": null,
            "_view_module": "@jupyter-widgets/controls",
            "_view_module_version": "1.5.0",
            "_view_name": "HTMLView",
            "description": "",
            "description_tooltip": null,
            "layout": "IPY_MODEL_7125f9258ccc496d960a5c4329a89ad9",
            "placeholder": "​",
            "style": "IPY_MODEL_25e1dcf374644d6f9c22b720bc7e95f8",
            "value": "tokenizer.json: 100%"
          }
        },
        "4eb3bcda8a47432481cba917ecac4cba": {
          "model_module": "@jupyter-widgets/controls",
          "model_name": "FloatProgressModel",
          "model_module_version": "1.5.0",
          "state": {
            "_dom_classes": [],
            "_model_module": "@jupyter-widgets/controls",
            "_model_module_version": "1.5.0",
            "_model_name": "FloatProgressModel",
            "_view_count": null,
            "_view_module": "@jupyter-widgets/controls",
            "_view_module_version": "1.5.0",
            "_view_name": "ProgressView",
            "bar_style": "success",
            "description": "",
            "description_tooltip": null,
            "layout": "IPY_MODEL_8511128b2a794ecd83ee5d39cb8753a2",
            "max": 466062,
            "min": 0,
            "orientation": "horizontal",
            "style": "IPY_MODEL_0e149188fdf94083ac31ce00fb0ba0ef",
            "value": 466062
          }
        },
        "0769d6548c744dc7b619070739a88d4b": {
          "model_module": "@jupyter-widgets/controls",
          "model_name": "HTMLModel",
          "model_module_version": "1.5.0",
          "state": {
            "_dom_classes": [],
            "_model_module": "@jupyter-widgets/controls",
            "_model_module_version": "1.5.0",
            "_model_name": "HTMLModel",
            "_view_count": null,
            "_view_module": "@jupyter-widgets/controls",
            "_view_module_version": "1.5.0",
            "_view_name": "HTMLView",
            "description": "",
            "description_tooltip": null,
            "layout": "IPY_MODEL_cdceb933aa4c45168fb699b7b58a2fc9",
            "placeholder": "​",
            "style": "IPY_MODEL_129fbb48538e4e758a6f866a0892df1f",
            "value": " 466k/466k [00:00&lt;00:00, 6.73MB/s]"
          }
        },
        "3f4b4e7af9b74002aedc995d9b7d52d6": {
          "model_module": "@jupyter-widgets/base",
          "model_name": "LayoutModel",
          "model_module_version": "1.2.0",
          "state": {
            "_model_module": "@jupyter-widgets/base",
            "_model_module_version": "1.2.0",
            "_model_name": "LayoutModel",
            "_view_count": null,
            "_view_module": "@jupyter-widgets/base",
            "_view_module_version": "1.2.0",
            "_view_name": "LayoutView",
            "align_content": null,
            "align_items": null,
            "align_self": null,
            "border": null,
            "bottom": null,
            "display": null,
            "flex": null,
            "flex_flow": null,
            "grid_area": null,
            "grid_auto_columns": null,
            "grid_auto_flow": null,
            "grid_auto_rows": null,
            "grid_column": null,
            "grid_gap": null,
            "grid_row": null,
            "grid_template_areas": null,
            "grid_template_columns": null,
            "grid_template_rows": null,
            "height": null,
            "justify_content": null,
            "justify_items": null,
            "left": null,
            "margin": null,
            "max_height": null,
            "max_width": null,
            "min_height": null,
            "min_width": null,
            "object_fit": null,
            "object_position": null,
            "order": null,
            "overflow": null,
            "overflow_x": null,
            "overflow_y": null,
            "padding": null,
            "right": null,
            "top": null,
            "visibility": null,
            "width": null
          }
        },
        "7125f9258ccc496d960a5c4329a89ad9": {
          "model_module": "@jupyter-widgets/base",
          "model_name": "LayoutModel",
          "model_module_version": "1.2.0",
          "state": {
            "_model_module": "@jupyter-widgets/base",
            "_model_module_version": "1.2.0",
            "_model_name": "LayoutModel",
            "_view_count": null,
            "_view_module": "@jupyter-widgets/base",
            "_view_module_version": "1.2.0",
            "_view_name": "LayoutView",
            "align_content": null,
            "align_items": null,
            "align_self": null,
            "border": null,
            "bottom": null,
            "display": null,
            "flex": null,
            "flex_flow": null,
            "grid_area": null,
            "grid_auto_columns": null,
            "grid_auto_flow": null,
            "grid_auto_rows": null,
            "grid_column": null,
            "grid_gap": null,
            "grid_row": null,
            "grid_template_areas": null,
            "grid_template_columns": null,
            "grid_template_rows": null,
            "height": null,
            "justify_content": null,
            "justify_items": null,
            "left": null,
            "margin": null,
            "max_height": null,
            "max_width": null,
            "min_height": null,
            "min_width": null,
            "object_fit": null,
            "object_position": null,
            "order": null,
            "overflow": null,
            "overflow_x": null,
            "overflow_y": null,
            "padding": null,
            "right": null,
            "top": null,
            "visibility": null,
            "width": null
          }
        },
        "25e1dcf374644d6f9c22b720bc7e95f8": {
          "model_module": "@jupyter-widgets/controls",
          "model_name": "DescriptionStyleModel",
          "model_module_version": "1.5.0",
          "state": {
            "_model_module": "@jupyter-widgets/controls",
            "_model_module_version": "1.5.0",
            "_model_name": "DescriptionStyleModel",
            "_view_count": null,
            "_view_module": "@jupyter-widgets/base",
            "_view_module_version": "1.2.0",
            "_view_name": "StyleView",
            "description_width": ""
          }
        },
        "8511128b2a794ecd83ee5d39cb8753a2": {
          "model_module": "@jupyter-widgets/base",
          "model_name": "LayoutModel",
          "model_module_version": "1.2.0",
          "state": {
            "_model_module": "@jupyter-widgets/base",
            "_model_module_version": "1.2.0",
            "_model_name": "LayoutModel",
            "_view_count": null,
            "_view_module": "@jupyter-widgets/base",
            "_view_module_version": "1.2.0",
            "_view_name": "LayoutView",
            "align_content": null,
            "align_items": null,
            "align_self": null,
            "border": null,
            "bottom": null,
            "display": null,
            "flex": null,
            "flex_flow": null,
            "grid_area": null,
            "grid_auto_columns": null,
            "grid_auto_flow": null,
            "grid_auto_rows": null,
            "grid_column": null,
            "grid_gap": null,
            "grid_row": null,
            "grid_template_areas": null,
            "grid_template_columns": null,
            "grid_template_rows": null,
            "height": null,
            "justify_content": null,
            "justify_items": null,
            "left": null,
            "margin": null,
            "max_height": null,
            "max_width": null,
            "min_height": null,
            "min_width": null,
            "object_fit": null,
            "object_position": null,
            "order": null,
            "overflow": null,
            "overflow_x": null,
            "overflow_y": null,
            "padding": null,
            "right": null,
            "top": null,
            "visibility": null,
            "width": null
          }
        },
        "0e149188fdf94083ac31ce00fb0ba0ef": {
          "model_module": "@jupyter-widgets/controls",
          "model_name": "ProgressStyleModel",
          "model_module_version": "1.5.0",
          "state": {
            "_model_module": "@jupyter-widgets/controls",
            "_model_module_version": "1.5.0",
            "_model_name": "ProgressStyleModel",
            "_view_count": null,
            "_view_module": "@jupyter-widgets/base",
            "_view_module_version": "1.2.0",
            "_view_name": "StyleView",
            "bar_color": null,
            "description_width": ""
          }
        },
        "cdceb933aa4c45168fb699b7b58a2fc9": {
          "model_module": "@jupyter-widgets/base",
          "model_name": "LayoutModel",
          "model_module_version": "1.2.0",
          "state": {
            "_model_module": "@jupyter-widgets/base",
            "_model_module_version": "1.2.0",
            "_model_name": "LayoutModel",
            "_view_count": null,
            "_view_module": "@jupyter-widgets/base",
            "_view_module_version": "1.2.0",
            "_view_name": "LayoutView",
            "align_content": null,
            "align_items": null,
            "align_self": null,
            "border": null,
            "bottom": null,
            "display": null,
            "flex": null,
            "flex_flow": null,
            "grid_area": null,
            "grid_auto_columns": null,
            "grid_auto_flow": null,
            "grid_auto_rows": null,
            "grid_column": null,
            "grid_gap": null,
            "grid_row": null,
            "grid_template_areas": null,
            "grid_template_columns": null,
            "grid_template_rows": null,
            "height": null,
            "justify_content": null,
            "justify_items": null,
            "left": null,
            "margin": null,
            "max_height": null,
            "max_width": null,
            "min_height": null,
            "min_width": null,
            "object_fit": null,
            "object_position": null,
            "order": null,
            "overflow": null,
            "overflow_x": null,
            "overflow_y": null,
            "padding": null,
            "right": null,
            "top": null,
            "visibility": null,
            "width": null
          }
        },
        "129fbb48538e4e758a6f866a0892df1f": {
          "model_module": "@jupyter-widgets/controls",
          "model_name": "DescriptionStyleModel",
          "model_module_version": "1.5.0",
          "state": {
            "_model_module": "@jupyter-widgets/controls",
            "_model_module_version": "1.5.0",
            "_model_name": "DescriptionStyleModel",
            "_view_count": null,
            "_view_module": "@jupyter-widgets/base",
            "_view_module_version": "1.2.0",
            "_view_name": "StyleView",
            "description_width": ""
          }
        },
        "4439887745304de4ab646bd3ec5b0864": {
          "model_module": "@jupyter-widgets/controls",
          "model_name": "HBoxModel",
          "model_module_version": "1.5.0",
          "state": {
            "_dom_classes": [],
            "_model_module": "@jupyter-widgets/controls",
            "_model_module_version": "1.5.0",
            "_model_name": "HBoxModel",
            "_view_count": null,
            "_view_module": "@jupyter-widgets/controls",
            "_view_module_version": "1.5.0",
            "_view_name": "HBoxView",
            "box_style": "",
            "children": [
              "IPY_MODEL_2120a61159ef4ddcab1ac7de40428cd2",
              "IPY_MODEL_b6586269379f40899745534f1cec3942",
              "IPY_MODEL_8164bf34b61d459a8ffd5f94bf1e9957"
            ],
            "layout": "IPY_MODEL_b1b54aa5f0a4422eb8e71c9ea5383a8f"
          }
        },
        "2120a61159ef4ddcab1ac7de40428cd2": {
          "model_module": "@jupyter-widgets/controls",
          "model_name": "HTMLModel",
          "model_module_version": "1.5.0",
          "state": {
            "_dom_classes": [],
            "_model_module": "@jupyter-widgets/controls",
            "_model_module_version": "1.5.0",
            "_model_name": "HTMLModel",
            "_view_count": null,
            "_view_module": "@jupyter-widgets/controls",
            "_view_module_version": "1.5.0",
            "_view_name": "HTMLView",
            "description": "",
            "description_tooltip": null,
            "layout": "IPY_MODEL_42bf3828b3864fe7a86c599b8913c5d8",
            "placeholder": "​",
            "style": "IPY_MODEL_4a72f8a9ac51477e95543bec417faa3e",
            "value": "config.json: 100%"
          }
        },
        "b6586269379f40899745534f1cec3942": {
          "model_module": "@jupyter-widgets/controls",
          "model_name": "FloatProgressModel",
          "model_module_version": "1.5.0",
          "state": {
            "_dom_classes": [],
            "_model_module": "@jupyter-widgets/controls",
            "_model_module_version": "1.5.0",
            "_model_name": "FloatProgressModel",
            "_view_count": null,
            "_view_module": "@jupyter-widgets/controls",
            "_view_module_version": "1.5.0",
            "_view_name": "ProgressView",
            "bar_style": "success",
            "description": "",
            "description_tooltip": null,
            "layout": "IPY_MODEL_e752eeefb962421ba52d7e31b0827fc8",
            "max": 483,
            "min": 0,
            "orientation": "horizontal",
            "style": "IPY_MODEL_27e54ba5293243e28a9a05747d25ed2d",
            "value": 483
          }
        },
        "8164bf34b61d459a8ffd5f94bf1e9957": {
          "model_module": "@jupyter-widgets/controls",
          "model_name": "HTMLModel",
          "model_module_version": "1.5.0",
          "state": {
            "_dom_classes": [],
            "_model_module": "@jupyter-widgets/controls",
            "_model_module_version": "1.5.0",
            "_model_name": "HTMLModel",
            "_view_count": null,
            "_view_module": "@jupyter-widgets/controls",
            "_view_module_version": "1.5.0",
            "_view_name": "HTMLView",
            "description": "",
            "description_tooltip": null,
            "layout": "IPY_MODEL_909af88669ea4e3bb387f1dc1dab83fb",
            "placeholder": "​",
            "style": "IPY_MODEL_0af7d825b83b44219a3b5cb4fbedc3b6",
            "value": " 483/483 [00:00&lt;00:00, 36.5kB/s]"
          }
        },
        "b1b54aa5f0a4422eb8e71c9ea5383a8f": {
          "model_module": "@jupyter-widgets/base",
          "model_name": "LayoutModel",
          "model_module_version": "1.2.0",
          "state": {
            "_model_module": "@jupyter-widgets/base",
            "_model_module_version": "1.2.0",
            "_model_name": "LayoutModel",
            "_view_count": null,
            "_view_module": "@jupyter-widgets/base",
            "_view_module_version": "1.2.0",
            "_view_name": "LayoutView",
            "align_content": null,
            "align_items": null,
            "align_self": null,
            "border": null,
            "bottom": null,
            "display": null,
            "flex": null,
            "flex_flow": null,
            "grid_area": null,
            "grid_auto_columns": null,
            "grid_auto_flow": null,
            "grid_auto_rows": null,
            "grid_column": null,
            "grid_gap": null,
            "grid_row": null,
            "grid_template_areas": null,
            "grid_template_columns": null,
            "grid_template_rows": null,
            "height": null,
            "justify_content": null,
            "justify_items": null,
            "left": null,
            "margin": null,
            "max_height": null,
            "max_width": null,
            "min_height": null,
            "min_width": null,
            "object_fit": null,
            "object_position": null,
            "order": null,
            "overflow": null,
            "overflow_x": null,
            "overflow_y": null,
            "padding": null,
            "right": null,
            "top": null,
            "visibility": null,
            "width": null
          }
        },
        "42bf3828b3864fe7a86c599b8913c5d8": {
          "model_module": "@jupyter-widgets/base",
          "model_name": "LayoutModel",
          "model_module_version": "1.2.0",
          "state": {
            "_model_module": "@jupyter-widgets/base",
            "_model_module_version": "1.2.0",
            "_model_name": "LayoutModel",
            "_view_count": null,
            "_view_module": "@jupyter-widgets/base",
            "_view_module_version": "1.2.0",
            "_view_name": "LayoutView",
            "align_content": null,
            "align_items": null,
            "align_self": null,
            "border": null,
            "bottom": null,
            "display": null,
            "flex": null,
            "flex_flow": null,
            "grid_area": null,
            "grid_auto_columns": null,
            "grid_auto_flow": null,
            "grid_auto_rows": null,
            "grid_column": null,
            "grid_gap": null,
            "grid_row": null,
            "grid_template_areas": null,
            "grid_template_columns": null,
            "grid_template_rows": null,
            "height": null,
            "justify_content": null,
            "justify_items": null,
            "left": null,
            "margin": null,
            "max_height": null,
            "max_width": null,
            "min_height": null,
            "min_width": null,
            "object_fit": null,
            "object_position": null,
            "order": null,
            "overflow": null,
            "overflow_x": null,
            "overflow_y": null,
            "padding": null,
            "right": null,
            "top": null,
            "visibility": null,
            "width": null
          }
        },
        "4a72f8a9ac51477e95543bec417faa3e": {
          "model_module": "@jupyter-widgets/controls",
          "model_name": "DescriptionStyleModel",
          "model_module_version": "1.5.0",
          "state": {
            "_model_module": "@jupyter-widgets/controls",
            "_model_module_version": "1.5.0",
            "_model_name": "DescriptionStyleModel",
            "_view_count": null,
            "_view_module": "@jupyter-widgets/base",
            "_view_module_version": "1.2.0",
            "_view_name": "StyleView",
            "description_width": ""
          }
        },
        "e752eeefb962421ba52d7e31b0827fc8": {
          "model_module": "@jupyter-widgets/base",
          "model_name": "LayoutModel",
          "model_module_version": "1.2.0",
          "state": {
            "_model_module": "@jupyter-widgets/base",
            "_model_module_version": "1.2.0",
            "_model_name": "LayoutModel",
            "_view_count": null,
            "_view_module": "@jupyter-widgets/base",
            "_view_module_version": "1.2.0",
            "_view_name": "LayoutView",
            "align_content": null,
            "align_items": null,
            "align_self": null,
            "border": null,
            "bottom": null,
            "display": null,
            "flex": null,
            "flex_flow": null,
            "grid_area": null,
            "grid_auto_columns": null,
            "grid_auto_flow": null,
            "grid_auto_rows": null,
            "grid_column": null,
            "grid_gap": null,
            "grid_row": null,
            "grid_template_areas": null,
            "grid_template_columns": null,
            "grid_template_rows": null,
            "height": null,
            "justify_content": null,
            "justify_items": null,
            "left": null,
            "margin": null,
            "max_height": null,
            "max_width": null,
            "min_height": null,
            "min_width": null,
            "object_fit": null,
            "object_position": null,
            "order": null,
            "overflow": null,
            "overflow_x": null,
            "overflow_y": null,
            "padding": null,
            "right": null,
            "top": null,
            "visibility": null,
            "width": null
          }
        },
        "27e54ba5293243e28a9a05747d25ed2d": {
          "model_module": "@jupyter-widgets/controls",
          "model_name": "ProgressStyleModel",
          "model_module_version": "1.5.0",
          "state": {
            "_model_module": "@jupyter-widgets/controls",
            "_model_module_version": "1.5.0",
            "_model_name": "ProgressStyleModel",
            "_view_count": null,
            "_view_module": "@jupyter-widgets/base",
            "_view_module_version": "1.2.0",
            "_view_name": "StyleView",
            "bar_color": null,
            "description_width": ""
          }
        },
        "909af88669ea4e3bb387f1dc1dab83fb": {
          "model_module": "@jupyter-widgets/base",
          "model_name": "LayoutModel",
          "model_module_version": "1.2.0",
          "state": {
            "_model_module": "@jupyter-widgets/base",
            "_model_module_version": "1.2.0",
            "_model_name": "LayoutModel",
            "_view_count": null,
            "_view_module": "@jupyter-widgets/base",
            "_view_module_version": "1.2.0",
            "_view_name": "LayoutView",
            "align_content": null,
            "align_items": null,
            "align_self": null,
            "border": null,
            "bottom": null,
            "display": null,
            "flex": null,
            "flex_flow": null,
            "grid_area": null,
            "grid_auto_columns": null,
            "grid_auto_flow": null,
            "grid_auto_rows": null,
            "grid_column": null,
            "grid_gap": null,
            "grid_row": null,
            "grid_template_areas": null,
            "grid_template_columns": null,
            "grid_template_rows": null,
            "height": null,
            "justify_content": null,
            "justify_items": null,
            "left": null,
            "margin": null,
            "max_height": null,
            "max_width": null,
            "min_height": null,
            "min_width": null,
            "object_fit": null,
            "object_position": null,
            "order": null,
            "overflow": null,
            "overflow_x": null,
            "overflow_y": null,
            "padding": null,
            "right": null,
            "top": null,
            "visibility": null,
            "width": null
          }
        },
        "0af7d825b83b44219a3b5cb4fbedc3b6": {
          "model_module": "@jupyter-widgets/controls",
          "model_name": "DescriptionStyleModel",
          "model_module_version": "1.5.0",
          "state": {
            "_model_module": "@jupyter-widgets/controls",
            "_model_module_version": "1.5.0",
            "_model_name": "DescriptionStyleModel",
            "_view_count": null,
            "_view_module": "@jupyter-widgets/base",
            "_view_module_version": "1.2.0",
            "_view_name": "StyleView",
            "description_width": ""
          }
        },
        "fdd02a79713b4ea5bf546eadbd55aec3": {
          "model_module": "@jupyter-widgets/controls",
          "model_name": "HBoxModel",
          "model_module_version": "1.5.0",
          "state": {
            "_dom_classes": [],
            "_model_module": "@jupyter-widgets/controls",
            "_model_module_version": "1.5.0",
            "_model_name": "HBoxModel",
            "_view_count": null,
            "_view_module": "@jupyter-widgets/controls",
            "_view_module_version": "1.5.0",
            "_view_name": "HBoxView",
            "box_style": "",
            "children": [
              "IPY_MODEL_1fde84f6ae6a4e3a8a890a865d32de63",
              "IPY_MODEL_ae28608ffa8949378232fc3718263fca",
              "IPY_MODEL_bba79cdb5eb145e594f8dfdffd348162"
            ],
            "layout": "IPY_MODEL_4a9241df64a84211a429170dfa9fc1fe"
          }
        },
        "1fde84f6ae6a4e3a8a890a865d32de63": {
          "model_module": "@jupyter-widgets/controls",
          "model_name": "HTMLModel",
          "model_module_version": "1.5.0",
          "state": {
            "_dom_classes": [],
            "_model_module": "@jupyter-widgets/controls",
            "_model_module_version": "1.5.0",
            "_model_name": "HTMLModel",
            "_view_count": null,
            "_view_module": "@jupyter-widgets/controls",
            "_view_module_version": "1.5.0",
            "_view_name": "HTMLView",
            "description": "",
            "description_tooltip": null,
            "layout": "IPY_MODEL_778a668924954d249f4a316c74b7b343",
            "placeholder": "​",
            "style": "IPY_MODEL_e9087b22a8df4fa293d9c122b20bb07a",
            "value": "model.safetensors: 100%"
          }
        },
        "ae28608ffa8949378232fc3718263fca": {
          "model_module": "@jupyter-widgets/controls",
          "model_name": "FloatProgressModel",
          "model_module_version": "1.5.0",
          "state": {
            "_dom_classes": [],
            "_model_module": "@jupyter-widgets/controls",
            "_model_module_version": "1.5.0",
            "_model_name": "FloatProgressModel",
            "_view_count": null,
            "_view_module": "@jupyter-widgets/controls",
            "_view_module_version": "1.5.0",
            "_view_name": "ProgressView",
            "bar_style": "success",
            "description": "",
            "description_tooltip": null,
            "layout": "IPY_MODEL_5386d4d2fb074fff909ebef77bf5db95",
            "max": 267954768,
            "min": 0,
            "orientation": "horizontal",
            "style": "IPY_MODEL_a544a3537b944d86bdbe34771b161465",
            "value": 267954768
          }
        },
        "bba79cdb5eb145e594f8dfdffd348162": {
          "model_module": "@jupyter-widgets/controls",
          "model_name": "HTMLModel",
          "model_module_version": "1.5.0",
          "state": {
            "_dom_classes": [],
            "_model_module": "@jupyter-widgets/controls",
            "_model_module_version": "1.5.0",
            "_model_name": "HTMLModel",
            "_view_count": null,
            "_view_module": "@jupyter-widgets/controls",
            "_view_module_version": "1.5.0",
            "_view_name": "HTMLView",
            "description": "",
            "description_tooltip": null,
            "layout": "IPY_MODEL_d3a0d38413f94e04880b80642fc12f6a",
            "placeholder": "​",
            "style": "IPY_MODEL_eb661f894ad94ba5848d61fb240b40d4",
            "value": " 268M/268M [00:01&lt;00:00, 245MB/s]"
          }
        },
        "4a9241df64a84211a429170dfa9fc1fe": {
          "model_module": "@jupyter-widgets/base",
          "model_name": "LayoutModel",
          "model_module_version": "1.2.0",
          "state": {
            "_model_module": "@jupyter-widgets/base",
            "_model_module_version": "1.2.0",
            "_model_name": "LayoutModel",
            "_view_count": null,
            "_view_module": "@jupyter-widgets/base",
            "_view_module_version": "1.2.0",
            "_view_name": "LayoutView",
            "align_content": null,
            "align_items": null,
            "align_self": null,
            "border": null,
            "bottom": null,
            "display": null,
            "flex": null,
            "flex_flow": null,
            "grid_area": null,
            "grid_auto_columns": null,
            "grid_auto_flow": null,
            "grid_auto_rows": null,
            "grid_column": null,
            "grid_gap": null,
            "grid_row": null,
            "grid_template_areas": null,
            "grid_template_columns": null,
            "grid_template_rows": null,
            "height": null,
            "justify_content": null,
            "justify_items": null,
            "left": null,
            "margin": null,
            "max_height": null,
            "max_width": null,
            "min_height": null,
            "min_width": null,
            "object_fit": null,
            "object_position": null,
            "order": null,
            "overflow": null,
            "overflow_x": null,
            "overflow_y": null,
            "padding": null,
            "right": null,
            "top": null,
            "visibility": null,
            "width": null
          }
        },
        "778a668924954d249f4a316c74b7b343": {
          "model_module": "@jupyter-widgets/base",
          "model_name": "LayoutModel",
          "model_module_version": "1.2.0",
          "state": {
            "_model_module": "@jupyter-widgets/base",
            "_model_module_version": "1.2.0",
            "_model_name": "LayoutModel",
            "_view_count": null,
            "_view_module": "@jupyter-widgets/base",
            "_view_module_version": "1.2.0",
            "_view_name": "LayoutView",
            "align_content": null,
            "align_items": null,
            "align_self": null,
            "border": null,
            "bottom": null,
            "display": null,
            "flex": null,
            "flex_flow": null,
            "grid_area": null,
            "grid_auto_columns": null,
            "grid_auto_flow": null,
            "grid_auto_rows": null,
            "grid_column": null,
            "grid_gap": null,
            "grid_row": null,
            "grid_template_areas": null,
            "grid_template_columns": null,
            "grid_template_rows": null,
            "height": null,
            "justify_content": null,
            "justify_items": null,
            "left": null,
            "margin": null,
            "max_height": null,
            "max_width": null,
            "min_height": null,
            "min_width": null,
            "object_fit": null,
            "object_position": null,
            "order": null,
            "overflow": null,
            "overflow_x": null,
            "overflow_y": null,
            "padding": null,
            "right": null,
            "top": null,
            "visibility": null,
            "width": null
          }
        },
        "e9087b22a8df4fa293d9c122b20bb07a": {
          "model_module": "@jupyter-widgets/controls",
          "model_name": "DescriptionStyleModel",
          "model_module_version": "1.5.0",
          "state": {
            "_model_module": "@jupyter-widgets/controls",
            "_model_module_version": "1.5.0",
            "_model_name": "DescriptionStyleModel",
            "_view_count": null,
            "_view_module": "@jupyter-widgets/base",
            "_view_module_version": "1.2.0",
            "_view_name": "StyleView",
            "description_width": ""
          }
        },
        "5386d4d2fb074fff909ebef77bf5db95": {
          "model_module": "@jupyter-widgets/base",
          "model_name": "LayoutModel",
          "model_module_version": "1.2.0",
          "state": {
            "_model_module": "@jupyter-widgets/base",
            "_model_module_version": "1.2.0",
            "_model_name": "LayoutModel",
            "_view_count": null,
            "_view_module": "@jupyter-widgets/base",
            "_view_module_version": "1.2.0",
            "_view_name": "LayoutView",
            "align_content": null,
            "align_items": null,
            "align_self": null,
            "border": null,
            "bottom": null,
            "display": null,
            "flex": null,
            "flex_flow": null,
            "grid_area": null,
            "grid_auto_columns": null,
            "grid_auto_flow": null,
            "grid_auto_rows": null,
            "grid_column": null,
            "grid_gap": null,
            "grid_row": null,
            "grid_template_areas": null,
            "grid_template_columns": null,
            "grid_template_rows": null,
            "height": null,
            "justify_content": null,
            "justify_items": null,
            "left": null,
            "margin": null,
            "max_height": null,
            "max_width": null,
            "min_height": null,
            "min_width": null,
            "object_fit": null,
            "object_position": null,
            "order": null,
            "overflow": null,
            "overflow_x": null,
            "overflow_y": null,
            "padding": null,
            "right": null,
            "top": null,
            "visibility": null,
            "width": null
          }
        },
        "a544a3537b944d86bdbe34771b161465": {
          "model_module": "@jupyter-widgets/controls",
          "model_name": "ProgressStyleModel",
          "model_module_version": "1.5.0",
          "state": {
            "_model_module": "@jupyter-widgets/controls",
            "_model_module_version": "1.5.0",
            "_model_name": "ProgressStyleModel",
            "_view_count": null,
            "_view_module": "@jupyter-widgets/base",
            "_view_module_version": "1.2.0",
            "_view_name": "StyleView",
            "bar_color": null,
            "description_width": ""
          }
        },
        "d3a0d38413f94e04880b80642fc12f6a": {
          "model_module": "@jupyter-widgets/base",
          "model_name": "LayoutModel",
          "model_module_version": "1.2.0",
          "state": {
            "_model_module": "@jupyter-widgets/base",
            "_model_module_version": "1.2.0",
            "_model_name": "LayoutModel",
            "_view_count": null,
            "_view_module": "@jupyter-widgets/base",
            "_view_module_version": "1.2.0",
            "_view_name": "LayoutView",
            "align_content": null,
            "align_items": null,
            "align_self": null,
            "border": null,
            "bottom": null,
            "display": null,
            "flex": null,
            "flex_flow": null,
            "grid_area": null,
            "grid_auto_columns": null,
            "grid_auto_flow": null,
            "grid_auto_rows": null,
            "grid_column": null,
            "grid_gap": null,
            "grid_row": null,
            "grid_template_areas": null,
            "grid_template_columns": null,
            "grid_template_rows": null,
            "height": null,
            "justify_content": null,
            "justify_items": null,
            "left": null,
            "margin": null,
            "max_height": null,
            "max_width": null,
            "min_height": null,
            "min_width": null,
            "object_fit": null,
            "object_position": null,
            "order": null,
            "overflow": null,
            "overflow_x": null,
            "overflow_y": null,
            "padding": null,
            "right": null,
            "top": null,
            "visibility": null,
            "width": null
          }
        },
        "eb661f894ad94ba5848d61fb240b40d4": {
          "model_module": "@jupyter-widgets/controls",
          "model_name": "DescriptionStyleModel",
          "model_module_version": "1.5.0",
          "state": {
            "_model_module": "@jupyter-widgets/controls",
            "_model_module_version": "1.5.0",
            "_model_name": "DescriptionStyleModel",
            "_view_count": null,
            "_view_module": "@jupyter-widgets/base",
            "_view_module_version": "1.2.0",
            "_view_name": "StyleView",
            "description_width": ""
          }
        }
      }
    }
  },
  "cells": [
    {
      "cell_type": "markdown",
      "metadata": {
        "id": "view-in-github",
        "colab_type": "text"
      },
      "source": [
        "<a href=\"https://colab.research.google.com/github/mkro298/sentimentAnalysis/blob/main/analyzer.ipynb\" target=\"_parent\"><img src=\"https://colab.research.google.com/assets/colab-badge.svg\" alt=\"Open In Colab\"/></a>"
      ]
    },
    {
      "cell_type": "markdown",
      "source": [
        "# CIS 5450 Homework 4: Machine Learning\n",
        "\n",
        "*Due Date: **November 15th at 10:00PM EST**, 103 points total (= 85 autograded + 18 manually graded).*\n"
      ],
      "metadata": {
        "id": "I2L0PkeSIuOD"
      }
    },
    {
      "cell_type": "markdown",
      "metadata": {
        "id": "ETZ9CDIDLYHp"
      },
      "source": [
        "# Imports/Setup\n",
        "Run the following cells to set up the notebook.\n"
      ]
    },
    {
      "cell_type": "markdown",
      "source": [
        "**Before you begin:**\n",
        "- Be sure to click \"Copy to Drive\" to make sure you're working on your own personal version of the homework\n",
        "- Check the **pinned FAQ post** on Ed for updates! TAs work really hard to keep it updated with everything you might need to know or anything we might have failed to specify. Writing these HWs and test cases gets tricky since students always end up implementing solutions that we did not anticipate and thus could not have prepared the grader correctly for.\n",
        "- **WARNING:** You MUST check that your notebook displays ALL visualizations on the Gradescope preview AND verify that the autograder finishes running and gives you your expected score (not a 0). (Ed [#251](https://edstem.org/us/courses/44790/discussion/3426442)).\n",
        "  - **Penalty:** -10: If we have to resubmit your notebook to Gradescope for you after the deadline. (e.g. not naming your files correctly, not submitting `.py` and .`ipynb`, etc.).\n",
        "  - **Penalty:** -5: If your notebook fails show up in the Gradescope preview of your `.ipynb` (e.g. `Large File Hidden Error`).\n",
        "      - If you experience this issue, please try to remove print outputs the non-plot images in the notebook.\n",
        "  - **Note:**  We will be manually checking your implementations and code for certain problems. If you incorrectly implemented a procedure using Scikit-learn and/or MLlib (e.g. creating predictions on training dataset, incorrectly process training data prior to running certain machine learning models, hardcoding values, etc.), we will be enforcing a penalty system up to the maximum value of points allocated to the problem. (e.g. if your problem is worth 4 points, the maximum number of points that can be deducted is 4 points).\n",
        "  - **Note:** If your plot is not run or not present after we open your notebook, we will deduct the entire manually graded point value of the plot. (e.g. if your plot is worth 4 points, we will deduct 4 points).\n",
        "  - **Note:** If your `.py` file is hidden because it's too large, that's ok! We only care about your `.ipynb` file.\n",
        "\n"
      ],
      "metadata": {
        "id": "mPo2-Uzj5O-b"
      }
    },
    {
      "cell_type": "markdown",
      "metadata": {
        "id": "eEUIzvEuMdGQ"
      },
      "source": [
        "Please make sure you enter your **8 digit Penn ID** in the  student ID field below."
      ]
    },
    {
      "cell_type": "code",
      "execution_count": null,
      "metadata": {
        "id": "adECTPlZLtVi"
      },
      "outputs": [],
      "source": [
        "%%capture\n",
        "!pip install penngrader-client\n",
        "from penngrader.grader import *\n",
        "\n",
        "#PLEASE ENSURE YOUR PENN-ID IS ENTERED CORRECTLY. IF NOT, THE AUTOGRADER WON'T KNOW WHO\n",
        "#TO ASSIGN POINTS TO YOU IN OUR BACKEND\n",
        "\n",
        "STUDENT_ID = 19180239       # YOUR PENN-ID GOES HERE AS AN INTEGER"
      ]
    },
    {
      "cell_type": "code",
      "execution_count": null,
      "metadata": {
        "id": "JAWRpROskV1E",
        "outputId": "a1c1508b-3b35-4fc2-9e15-cb752e521ca1",
        "colab": {
          "base_uri": "https://localhost:8080/"
        }
      },
      "outputs": [
        {
          "output_type": "stream",
          "name": "stdout",
          "text": [
            "Writing notebook-config.yaml\n"
          ]
        }
      ],
      "source": [
        "\n",
        "%%writefile notebook-config.yaml\n",
        "\n",
        "grader_api_url: 'https://23whrwph9h.execute-api.us-east-1.amazonaws.com/default/Grader23'\n",
        "grader_api_key: 'flfkE736fA6Z8GxMDJe2q8Kfk8UDqjsG3GVqOFOa'"
      ]
    },
    {
      "cell_type": "code",
      "execution_count": null,
      "metadata": {
        "id": "IiUMGpQukYHj",
        "outputId": "40112073-ed24-411c-bdff-3a51153aff77",
        "colab": {
          "base_uri": "https://localhost:8080/"
        }
      },
      "outputs": [
        {
          "output_type": "stream",
          "name": "stdout",
          "text": [
            "PennGrader initialized with Student ID: 19180239\n",
            "\n",
            "Make sure this correct or we will not be able to store your grade\n"
          ]
        }
      ],
      "source": [
        "grader = PennGrader('notebook-config.yaml', 'cis5450_fall24_HW4', STUDENT_ID, STUDENT_ID)"
      ]
    },
    {
      "cell_type": "code",
      "execution_count": null,
      "metadata": {
        "id": "TBTaESEdMmiU"
      },
      "outputs": [],
      "source": [
        "# import packages\n",
        "import json\n",
        "import glob\n",
        "import pandas as pd\n",
        "import numpy as np\n",
        "import datetime as dt\n",
        "import re\n",
        "import os\n",
        "import matplotlib.pyplot as plt\n",
        "import seaborn as sns\n",
        "from matplotlib import cm\n",
        "from google.colab import drive\n",
        "from sklearn.model_selection import train_test_split\n",
        "from sklearn.preprocessing import StandardScaler\n",
        "from sklearn.model_selection import GridSearchCV\n",
        "from sklearn.linear_model import LogisticRegression\n",
        "from sklearn.metrics import accuracy_score\n",
        "from sklearn.metrics import classification_report\n",
        "from collections import Counter\n",
        "import seaborn as sns\n",
        "# pytorch related packages\n",
        "import torch\n",
        "import torchvision\n",
        "from torchvision import transforms, utils\n",
        "import torch.nn as nn\n",
        "import torch.optim as optim\n",
        "import torchvision.transforms as transforms\n",
        "from PIL import Image\n",
        "from skimage import io, transform\n",
        "from torchvision.io import read_image\n",
        "from torch.utils.data import Dataset, DataLoader\n",
        "\n",
        "# stopwords from NLTK\n",
        "stopwords = ['i', 'me', 'my', 'myself', 'we', 'our', 'ours', 'ourselves', 'you', \"you're\", \"you've\", \"you'll\", \"you'd\", 'your', 'yours', 'yourself', 'yourselves', 'he', 'him', 'his', 'himself', 'she', \"she's\", 'her', 'hers', 'herself', 'it', \"it's\", 'its', 'itself', 'they', 'them', 'their', 'theirs', 'themselves', 'what', 'which', 'who', 'whom', 'this', 'that', \"that'll\", 'these', 'those', 'am', 'is', 'are', 'was', 'were', 'be', 'been', 'being', 'have', 'has', 'had', 'having', 'do', 'does', 'did', 'doing', 'a', 'an', 'the', 'and', 'but', 'if', 'or', 'because', 'as', 'until', 'while', 'of', 'at', 'by', 'for', 'with', 'about', 'against', 'between', 'into', 'through', 'during', 'before', 'after', 'above', 'below', 'to', 'from', 'up', 'down', 'in', 'out', 'on', 'off', 'over', 'under', 'again', 'further', 'then', 'once', 'here', 'there', 'when', 'where', 'why', 'how', 'all', 'any', 'both', 'each', 'few', 'more', 'most', 'other', 'some', 'such', 'no', 'nor', 'not', 'only', 'own', 'same', 'so', 'than', 'too', 'very', 's', 't', 'can', 'will', 'just', 'don', \"don't\", 'should', \"should've\", 'now', 'd', 'll', 'm', 'o', 're', 've', 'y', 'ain', 'aren', \"aren't\", 'couldn', \"couldn't\", 'didn', \"didn't\", 'doesn', \"doesn't\", 'hadn', \"hadn't\", 'hasn', \"hasn't\", 'haven', \"haven't\", 'isn', \"isn't\", 'ma', 'mightn', \"mightn't\", 'mustn', \"mustn't\", 'needn', \"needn't\", 'shan', \"shan't\", 'shouldn', \"shouldn't\", 'wasn', \"wasn't\", 'weren', \"weren't\", 'won', \"won't\", 'wouldn', \"wouldn't\"]\n",
        "\n",
        "import warnings\n",
        "warnings.filterwarnings(\"ignore\", category=DeprecationWarning)"
      ]
    },
    {
      "cell_type": "code",
      "execution_count": null,
      "metadata": {
        "id": "tA6oTIZtRjf7"
      },
      "outputs": [],
      "source": [
        "%%capture\n",
        "!apt update\n",
        "!pip install kaggle"
      ]
    },
    {
      "cell_type": "markdown",
      "source": [
        "## Part 0: Set up GPU capabilities (1 point)\n",
        "\n",
        "The cell below configures a CUDA device for use with PyTorch, if available.\n",
        "\n",
        "Remember to enable the GPU in Colab:\n",
        "\n",
        "Go to Runtime -> Change runtime type -> GPU."
      ],
      "metadata": {
        "id": "x7Dvv1xUiZ3t"
      }
    },
    {
      "cell_type": "code",
      "source": [
        "# DO NOT MODIFY\n",
        "torch.manual_seed(42) # For grading consistency\n",
        "device = torch.device(\"cuda:0\" if torch.cuda.is_available() else \"cpu\")\n",
        "print(torch.__version__)\n",
        "print(device)"
      ],
      "metadata": {
        "id": "yD0S1bkqiY2x",
        "colab": {
          "base_uri": "https://localhost:8080/"
        },
        "outputId": "8f496c49-10cb-4ebf-9e4c-ee4568ec87fe"
      },
      "execution_count": null,
      "outputs": [
        {
          "output_type": "stream",
          "name": "stdout",
          "text": [
            "2.5.0+cu121\n",
            "cuda:0\n"
          ]
        }
      ]
    },
    {
      "cell_type": "code",
      "source": [
        "str(device)"
      ],
      "metadata": {
        "id": "3FNYqvOmiif1",
        "colab": {
          "base_uri": "https://localhost:8080/",
          "height": 35
        },
        "outputId": "aa8337fb-ef43-4ac0-cd73-3151b726e74e"
      },
      "execution_count": null,
      "outputs": [
        {
          "output_type": "execute_result",
          "data": {
            "text/plain": [
              "'cuda:0'"
            ],
            "application/vnd.google.colaboratory.intrinsic+json": {
              "type": "string"
            }
          },
          "metadata": {},
          "execution_count": 7
        }
      ]
    },
    {
      "cell_type": "code",
      "source": [
        "# Grader Cell (1 points)\n",
        "grader.grade(test_case_id = 'device', answer = str(device))"
      ],
      "metadata": {
        "id": "hZ2aqTAnjCMX",
        "colab": {
          "base_uri": "https://localhost:8080/"
        },
        "outputId": "f4c3f600-e02c-4b4a-a477-403f290edcb4"
      },
      "execution_count": null,
      "outputs": [
        {
          "output_type": "stream",
          "name": "stdout",
          "text": [
            "Correct! You earned 1/1 points. You are a star!\n",
            "\n",
            "Your submission has been successfully recorded in the gradebook.\n"
          ]
        }
      ]
    },
    {
      "cell_type": "markdown",
      "source": [
        "# **Part I:** Preprocessing and Modeling in `scikit-learn` (45 points)"
      ],
      "metadata": {
        "id": "odlXF5IYJ-et"
      }
    },
    {
      "cell_type": "markdown",
      "source": [
        "## **1.1** Data Loading and Preprocessing [0 Points]"
      ],
      "metadata": {
        "id": "_XSw-F5VjVKI"
      }
    },
    {
      "cell_type": "markdown",
      "metadata": {
        "id": "1Sw7LCAacKOu"
      },
      "source": [
        "### **1.1.1** Read and Load Data\n",
        "\n",
        "We are using a CSV for this part, `winequalityN.csv` from a Kaggle [dataset](https://www.kaggle.com/datasets/dataregress/rajyellow46/wine-quality). The dataset contains 13 columns and over 6000 wine entries.\n",
        "\n",
        "To get the data in here:\n",
        "1. Go to this [Kaggle link](https://www.kaggle.com) and create a Kaggle account (unless you already have one)\n",
        "2. Go to Account and click on \"Create New API Token\" to get the API key in the form of a json file `kaggle.json`\n",
        "3. Upload the `kaggle.json` file to the default location in your Google Drive (Please **DO NOT** upload the json file into any _specific_ folder as it will be difficult for us to debug issues if you deviate from these instructions!).\n",
        "\n",
        "This can be helpful for your project if you decide to use Kaggle for your final project or for future projects!"
      ]
    },
    {
      "cell_type": "code",
      "execution_count": null,
      "metadata": {
        "id": "RGz24WQ86ptM",
        "colab": {
          "base_uri": "https://localhost:8080/"
        },
        "outputId": "3f2ddc0e-d261-4309-b5ba-5461864b6530"
      },
      "outputs": [
        {
          "output_type": "stream",
          "name": "stdout",
          "text": [
            "Mounted at /content/drive\n"
          ]
        }
      ],
      "source": [
        "# Run this cell to mount your drive (you will be prompted to sign in)\n",
        "from google.colab import drive\n",
        "drive.mount('/content/drive')"
      ]
    },
    {
      "cell_type": "code",
      "source": [
        "# Create the kaggle directory and\n",
        "# (NOTE: Do NOT run this cell more than once unless restarting kernel)\n",
        "!mkdir ~/.kaggle"
      ],
      "metadata": {
        "id": "R4taOIpPb6CN"
      },
      "execution_count": null,
      "outputs": []
    },
    {
      "cell_type": "code",
      "source": [
        "# Read the uploaded kaggle.json file\n",
        "!cp /content/drive/MyDrive/kaggle.json ~/.kaggle/"
      ],
      "metadata": {
        "id": "uO1UNkV6cbxA",
        "colab": {
          "base_uri": "https://localhost:8080/"
        },
        "outputId": "a74c66eb-add4-4287-f9f7-bc679d1e3ec0"
      },
      "execution_count": null,
      "outputs": [
        {
          "output_type": "stream",
          "name": "stdout",
          "text": [
            "cp: cannot create regular file '/root/.kaggle/': Not a directory\n"
          ]
        }
      ]
    },
    {
      "cell_type": "code",
      "source": [
        "# Download dataset\n",
        "!!kaggle datasets download -d rajyellow46/wine-quality"
      ],
      "metadata": {
        "id": "krFCjQBzcdth",
        "colab": {
          "base_uri": "https://localhost:8080/"
        },
        "outputId": "6f94dec0-612e-49e1-91f2-8bf3a6c1d7bd"
      },
      "execution_count": null,
      "outputs": [
        {
          "output_type": "execute_result",
          "data": {
            "text/plain": [
              "['Dataset URL: https://www.kaggle.com/datasets/rajyellow46/wine-quality',\n",
              " 'License(s): other',\n",
              " 'Downloading wine-quality.zip to /content',\n",
              " '',\n",
              " '  0% 0.00/98.0k [00:00<?, ?B/s]',\n",
              " '',\n",
              " '100% 98.0k/98.0k [00:00<00:00, 39.5MB/s]']"
            ]
          },
          "metadata": {},
          "execution_count": 10
        }
      ]
    },
    {
      "cell_type": "code",
      "source": [
        "# Unzip folder in Colab content folder\n",
        "!unzip /content/wine-quality.zip"
      ],
      "metadata": {
        "id": "y1e75jxBctPG",
        "colab": {
          "base_uri": "https://localhost:8080/"
        },
        "outputId": "e1e2b082-cabc-47ff-9bc9-f21638622abf"
      },
      "execution_count": null,
      "outputs": [
        {
          "output_type": "stream",
          "name": "stdout",
          "text": [
            "Archive:  /content/wine-quality.zip\n",
            "  inflating: winequalityN.csv        \n"
          ]
        }
      ]
    },
    {
      "cell_type": "code",
      "execution_count": null,
      "metadata": {
        "id": "PB4RPNywcKOv"
      },
      "outputs": [],
      "source": [
        "# TODO: Read the csv file and save it to a dataframe called \"wine_quality_df\"\n",
        "wine_quality_df = pd.read_csv('winequalityN.csv')\n",
        "\n",
        "# Check out the first five rows"
      ]
    },
    {
      "cell_type": "markdown",
      "source": [
        "### **1.1.2** Understanding Data\n",
        "\n",
        "A good practice before approaching any data science problem, is to understand the data you will be working with. This can be through descriptive statistics, datatypes, or just a quick tabular visualization. We will be walking through such tasks through Pandas."
      ],
      "metadata": {
        "id": "Ut_yMmcO2kXF"
      }
    },
    {
      "cell_type": "code",
      "source": [
        "# display the datatypes and filled entries in `wine_quality_df`\n",
        "#wine_quality_df.info()"
      ],
      "metadata": {
        "id": "DUIcIyJg3Zth"
      },
      "execution_count": null,
      "outputs": []
    },
    {
      "cell_type": "markdown",
      "source": [
        "Let's also verify if there are any null values in our dataset. We will remove all null rows in `wine_quality_df`"
      ],
      "metadata": {
        "id": "KO0C2Jx6hBRF"
      }
    },
    {
      "cell_type": "code",
      "source": [
        "# drop all null rows\n",
        "\n",
        "wine_quality_df.dropna(inplace=True)"
      ],
      "metadata": {
        "id": "zaraP4nShIk2"
      },
      "execution_count": null,
      "outputs": []
    },
    {
      "cell_type": "markdown",
      "source": [
        "## **1.2** EDA [subtotal 14 points]\n",
        "\n",
        "Exploratory Data Analysis (EDA) is an approach to analyzing data sets to summarize their main characteristics, often with visual methods. A statistical model can be used or not, but primarily EDA is for seeing what the data can tell us beyond the formal modeling or hypothesis testing task.\n"
      ],
      "metadata": {
        "id": "LsDRMCdfkACq"
      }
    },
    {
      "cell_type": "markdown",
      "source": [
        "### **1.2.1** Visualization [10 points]"
      ],
      "metadata": {
        "id": "YwLDb9QE6sEF"
      }
    },
    {
      "cell_type": "markdown",
      "source": [
        "#### (a) Quality Distribution [4 Points]"
      ],
      "metadata": {
        "id": "SCE6Y6TF7thU"
      }
    },
    {
      "cell_type": "markdown",
      "source": [
        "**Task:** Find the distribution of the quality of wine in our dataset. The range of values should be integers in the range of 3-9, so we're expecting to have one bar per quality. You are **required** to use the Seaborn library for this problem to create a [countplot](https://seaborn.pydata.org/generated/seaborn.countplot.html).\n",
        "\n",
        "**Requirements:**\n",
        "\n",
        "You should use `wine_quality_df` for this problem.\n",
        "\n",
        "Your plot must:\n",
        "*   Be of size (8,6) and use `palette = 'viridis'`. (ignore the deprecated warning)\n",
        "*   Have appropriate titles and labels.\n",
        "*   Be clearly legible and should **not** have overlapping text or bars."
      ],
      "metadata": {
        "id": "pCOF-tYX9zVV"
      }
    },
    {
      "cell_type": "code",
      "source": [
        "# TODO (4 Manually Graded Points)\n",
        "# create a count plot which has a bar for each quality of wine, showing the frequency distribution of wine qualities\n",
        "import seaborn as sns\n",
        "plt.figure(figsize=(8, 6))\n",
        "plt.title('Distribution of Wine Quality')\n",
        "plt.xlabel('Quality')\n",
        "plt.ylabel('Frequency')\n",
        "sns.countplot(data=wine_quality_df, x='quality', palette='viridis')\n",
        "plt.show()\n"
      ],
      "metadata": {
        "id": "UqaanuTOEB6T",
        "colab": {
          "base_uri": "https://localhost:8080/",
          "height": 653
        },
        "outputId": "13589d51-955a-4993-b4ef-ceca401db6e7"
      },
      "execution_count": null,
      "outputs": [
        {
          "output_type": "stream",
          "name": "stderr",
          "text": [
            "<ipython-input-48-b23ef2a83619>:8: FutureWarning: \n",
            "\n",
            "Passing `palette` without assigning `hue` is deprecated and will be removed in v0.14.0. Assign the `x` variable to `hue` and set `legend=False` for the same effect.\n",
            "\n",
            "  sns.countplot(data=wine_quality_df, x='quality', palette='viridis')\n"
          ]
        },
        {
          "output_type": "display_data",
          "data": {
            "text/plain": [
              "<Figure size 800x600 with 1 Axes>"
            ],
            "image/png": "[encoded data removed]"
          },
          "metadata": {}
        }
      ]
    },
    {
      "cell_type": "markdown",
      "source": [
        "#### (b) 3D Scatterplot [6 Points]"
      ],
      "metadata": {
        "id": "yS7viOKL8Bap"
      }
    },
    {
      "cell_type": "markdown",
      "source": [
        "**Task:** We want to examine the relationship between three variables: `alcohol`, `pH`, and `density`. We also want to examine `quality` as well. You are **required** to use the Matplotlib library for this problem to create a [3D Scatterplot](https://matplotlib.org/stable/gallery/mplot3d/scatter3d.html).\n",
        "\n",
        "**Requirements:**\n",
        "\n",
        "You should use `wine_quality_df` for this problem.\n",
        "\n",
        "Your plot must:\n",
        "*   Be of size (6,6).\n",
        "*   Have each data point be colored accordingly by `quality`. The color mapping should be: 1-5 is red and 6-10 is green.\n",
        "*   Have `alcohol content` in the x-axis, `pH level` in the y-axis, and `density` in the z-axis.\n",
        "*   Have appropriate titles, axes labels, and a legend.\n",
        "*   Be clearly legible and should **not** have overlapping text or bars.\n",
        "\n",
        "\n",
        "**Very Helpful Resources:**\n",
        "\n",
        "*   [3D Scatter Plotting in Python using Matplotlib](https://www.geeksforgeeks.org/3d-scatter-plotting-in-python-using-matplotlib/)\n",
        "*   [List of named colors](https://matplotlib.org/stable/gallery/color/named_colors.html)\n"
      ],
      "metadata": {
        "id": "63W2fWFygolZ"
      }
    },
    {
      "cell_type": "markdown",
      "source": [
        "Since the dataset is large, we'll first sample 200 rows (roughly 10%) from our `wine_quality_df` using the random seed 42 and save the sampled dataframe into `sample_wine_quality_df`."
      ],
      "metadata": {
        "id": "16mlLvTic6Oe"
      }
    },
    {
      "cell_type": "code",
      "source": [
        "# TODO (2 pts): Sample 200 random row using the random seed 42\n",
        "# Make sure to reset index afterwards to allow the dataframe to be iterable when plotting below\n",
        "RANDOM_SEED = np.random.seed(42)\n",
        "sampled_wine_quality_df = wine_quality_df.sample(n=200, random_state=RANDOM_SEED).reset_index(drop=True)"
      ],
      "metadata": {
        "id": "EOrK_6vCcp1P"
      },
      "execution_count": null,
      "outputs": []
    },
    {
      "cell_type": "code",
      "source": [
        "#Grader Cell (2 points)\n",
        "grader.grade(test_case_id = 'sampling_for_visualization', answer = sampled_wine_quality_df)"
      ],
      "metadata": {
        "id": "1towsy-smsYI",
        "colab": {
          "base_uri": "https://localhost:8080/"
        },
        "outputId": "849ea5cf-03d6-4fee-e5b9-6de2d769ab9c"
      },
      "execution_count": null,
      "outputs": [
        {
          "output_type": "stream",
          "name": "stdout",
          "text": [
            "Correct! You earned 2/2 points. You are a star!\n",
            "\n",
            "Your submission has been successfully recorded in the gradebook.\n"
          ]
        }
      ]
    },
    {
      "cell_type": "code",
      "source": [
        "import matplotlib.pyplot as plt\n",
        "\n",
        "# TODO (4 Manually Graded Points): create 3d scatter plot\n",
        "# the comments will guide you through the process\n",
        "\n",
        "# Extract the required columns from the dataframe into lists/containers\n",
        "alcohol_list = sampled_wine_quality_df['alcohol'].tolist()\n",
        "pH_list = sampled_wine_quality_df['pH'].tolist()\n",
        "density_list = sampled_wine_quality_df['density'].tolist()\n",
        "\n",
        "# create a 3D scatter plot of size (6,6)\n",
        "fig = plt.figure(figsize=(6, 6))\n",
        "ax = fig.add_subplot(111, projection='3d')\n",
        "\n",
        "# Create a Python dictionary with your quality and corresponding colors\n",
        "quality_colors = {\n",
        "    1: 'red',\n",
        "    2: 'red',\n",
        "    3: 'red',\n",
        "    4: 'red',\n",
        "    5: 'red',\n",
        "    6: 'green',\n",
        "    7: 'green',\n",
        "    8: 'green',\n",
        "    9: 'green',\n",
        "    10: 'green'\n",
        "}\n",
        "\n",
        "\n",
        "# iterate through and plot datapoints\n",
        "for i in range(len(alcohol_list)):\n",
        "    quality = sampled_wine_quality_df.loc[i, 'quality']\n",
        "    color = quality_colors[quality]\n",
        "    ax.scatter(alcohol_list[i], pH_list[i], density_list[i], c=color, marker='o')\n",
        "\n",
        "# Set title and labels\n",
        "ax.set_title('3D Scatter Plot of Wine Quality')\n",
        "ax.set_xlabel('Alcohol')\n",
        "ax.set_ylabel('pH')\n",
        "ax.set_zlabel('Density')\n",
        "\n",
        "### STOP HERE ###\n",
        "### DO NOT EDIT ###\n",
        "ax.scatter([], [], [], c='r', marker='o', label=f'Low Quality')\n",
        "ax.scatter([], [], [], c='g', marker='o', label=f'High Quality')\n",
        "\n",
        "ax.legend(loc='upper left')\n",
        "plt.show()"
      ],
      "metadata": {
        "id": "J6Ob1MjUhflo",
        "colab": {
          "base_uri": "https://localhost:8080/",
          "height": 523
        },
        "outputId": "90236b24-5203-4c44-bbb9-abb6a018681a"
      },
      "execution_count": null,
      "outputs": [
        {
          "output_type": "display_data",
          "data": {
            "text/plain": [
              "<Figure size 600x600 with 1 Axes>"
            ],
            "image/png": "[encoded data removed]"
          },
          "metadata": {}
        }
      ]
    },
    {
      "cell_type": "markdown",
      "source": [
        "### **1.2.2** Correlation of Feature Variables [4 Points]\n",
        "\n",
        "With multiple features, it can be somewhat exhausting to do bivariate analysis on every possible pair of features. While you certainly should, your first instinct should be to check for the correlation between features since certain models (e.g. Linear Regression) won't work well if we have strong multicollinearity.\n",
        "\n",
        "Before finding our correlation matrix, we should filter out categorical features. Although quality is technically a categorical feature, we'll keep that column for now (and encode it later down the line). Drop any other categorical features and save this new dataframe into `num_df`.\n"
      ],
      "metadata": {
        "id": "D_uvTv_VKYfY"
      }
    },
    {
      "cell_type": "code",
      "source": [
        "# TODO: Create a dataframe of all numerical features\n",
        "num_df = wine_quality_df.select_dtypes(include=[np.number])"
      ],
      "metadata": {
        "id": "UH-8gS0AkKMX"
      },
      "execution_count": null,
      "outputs": []
    },
    {
      "cell_type": "markdown",
      "metadata": {
        "id": "QRaftmxV-FEV"
      },
      "source": [
        "_**Correlation Heatmap**_\n",
        "\n",
        "**Task:** Create a correlation matrix using `num_df` and call it `corr_mat`. Using the correlation matrix, generate a correlation heatmap for these numeric features. You are required to use Seaborn library to create this [heatmap](https://seaborn.pydata.org/generated/seaborn.heatmap.html).\n",
        "\n",
        "Make sure your correlation heatmap meets the following criteria:\n",
        "*   Ensure that your heatmap is sized (8,8): all feature labels should be visible on both the $x$-axis and $y$-axis\n",
        "*   Use the `RdBu` color map to ensure that negative correlations are red and positive correlations are blue\n",
        "*   Standardize the color scale so that -1 takes the darkest red color, 0 is totally white, and +1 takes the darkest blue color"
      ]
    },
    {
      "cell_type": "code",
      "source": [
        "# TODO: Plot correlation heatmap (2 Manually Graded Points + 2 autograded points)\n",
        "corr_mat = num_df.corr()\n",
        "plt.figure(figsize=(8, 8))\n",
        "sns.heatmap(corr_mat, cmap='RdBu', vmin=-1, vmax=1)\n",
        "plt.show()"
      ],
      "metadata": {
        "id": "3IjmGO3eLcjz",
        "colab": {
          "base_uri": "https://localhost:8080/",
          "height": 798
        },
        "outputId": "795d4f1d-1c85-4740-ac18-702783642a8f"
      },
      "execution_count": null,
      "outputs": [
        {
          "output_type": "display_data",
          "data": {
            "text/plain": [
              "<Figure size 800x800 with 2 Axes>"
            ],
            "image/png": "[encoded data removed]"
          },
          "metadata": {}
        }
      ]
    },
    {
      "cell_type": "code",
      "source": [
        "#Grader Cell (2 points)\n",
        "grader.grade(test_case_id = 'wine_feature_correlation', answer = corr_mat)"
      ],
      "metadata": {
        "id": "96OZpyTitmhr",
        "colab": {
          "base_uri": "https://localhost:8080/"
        },
        "outputId": "7cbb9afc-fcf3-440b-8df5-b9d94e58d4e4"
      },
      "execution_count": null,
      "outputs": [
        {
          "output_type": "stream",
          "name": "stdout",
          "text": [
            "Correct! You earned 2/2 points. You are a star!\n",
            "\n",
            "Your submission has been successfully recorded in the gradebook.\n"
          ]
        }
      ]
    },
    {
      "cell_type": "markdown",
      "source": [
        "(2 manually graded points)\n",
        "\n",
        "As an added exercise, based off of the correlation matrix above, write down what you believe to be the two most highly correlated pairs of features (by magnitude), and briefly explain the numerical intuition of what that correlation means. Note that you don't need any scientific explanation for why those variables are correlated.\n",
        "\n",
        "**Pair #1:** Free sulfur dioxide and total sulfur dioxide as the points at which they meet seem to have the highest correlation on the map as it's a dark blue. The higher the value of correlation seems to indicate that two elements are more closely correlated, whereas a negative correlation would mean the opposite.\n",
        "\n",
        "**Pair #2:** Density and residual sugar as the point where they meet creates the second darkest blue indicating high correlation on the heat map."
      ],
      "metadata": {
        "id": "qpBP0qEGkibQ"
      }
    },
    {
      "cell_type": "markdown",
      "source": [
        "## **1.3** Feature Encoding [subtotal 8 points]\n"
      ],
      "metadata": {
        "id": "06OFh_eTNIPI"
      }
    },
    {
      "cell_type": "markdown",
      "source": [
        "### **1.3.1** Encoding Wine Type [4 Points]"
      ],
      "metadata": {
        "id": "gJ2ptxmkNyG6"
      }
    },
    {
      "cell_type": "markdown",
      "source": [
        "Encoding is a process by which categorical variables are converted into a form that could be provided to ML algorithms to do a better job in prediction.\n",
        "\n",
        "**Task:**\n",
        "\n",
        "*   You should use `wine_quality_df` for this problem.\n",
        "*   Let's first determine the number of unique values for the `type` column and save that value in a new constant `NUM_UNIQUE_TYPES`\n"
      ],
      "metadata": {
        "id": "AIaH3ZHsNvei"
      }
    },
    {
      "cell_type": "code",
      "source": [
        "NUM_UNIQUE_TYPES = len(wine_quality_df['type'].unique())\n",
        "NUM_UNIQUE_TYPES"
      ],
      "metadata": {
        "id": "ttMWoxUPOhqF",
        "colab": {
          "base_uri": "https://localhost:8080/"
        },
        "outputId": "471f9496-b60a-4fbd-abc3-bbc7787f3aeb"
      },
      "execution_count": null,
      "outputs": [
        {
          "output_type": "execute_result",
          "data": {
            "text/plain": [
              "2"
            ]
          },
          "metadata": {},
          "execution_count": 27
        }
      ]
    },
    {
      "cell_type": "markdown",
      "source": [
        "Since there are two unique values for wine quality (red and white), let's write a helper function to convert a string wine quality to an integer. As an example, the function can convert a wine type, like \"white\" to 0 and \"red\" to 1."
      ],
      "metadata": {
        "id": "zO5_Ml7Gw5tH"
      }
    },
    {
      "cell_type": "code",
      "source": [
        "# TODO (2 pts): Convert the wine type to integers\n",
        "def wine_type_to_int(wine_type: str) -> int:\n",
        "    if wine_type == 'white':\n",
        "        return 0\n",
        "    elif wine_type == 'red':\n",
        "        return 1\n",
        "    else:\n",
        "        raise ValueError(f\"Invalid wine type: {wine_type}\")"
      ],
      "metadata": {
        "id": "ScNAPkZ3w22F"
      },
      "execution_count": null,
      "outputs": []
    },
    {
      "cell_type": "code",
      "source": [
        "#Grader Cell (2 points)\n",
        "grader.grade(test_case_id = 'wine_type_encoding_funct', answer = (wine_type_to_int('white'), wine_type_to_int('red')))"
      ],
      "metadata": {
        "id": "Qoqcmiq8uxZF",
        "colab": {
          "base_uri": "https://localhost:8080/"
        },
        "outputId": "e1f7a780-042d-4e1e-c1f5-8cdc1bb471ed"
      },
      "execution_count": null,
      "outputs": [
        {
          "output_type": "stream",
          "name": "stdout",
          "text": [
            "Correct! You earned 2/2 points. You are a star!\n",
            "\n",
            "Your submission has been successfully recorded in the gradebook.\n"
          ]
        }
      ]
    },
    {
      "cell_type": "markdown",
      "source": [
        "Now, let's make a copy of `wine_quality_df` into `encoded_wine_quality_df` and encode the `type` column to numerical values, and rename the `type` column to `red_wine`."
      ],
      "metadata": {
        "id": "_rT-G47Cxjvq"
      }
    },
    {
      "cell_type": "code",
      "source": [
        "# TODO: Encode the type column and save it\n",
        "encoded_wine_quality_df = wine_quality_df.copy()\n",
        "encoded_wine_quality_df.rename(columns={'type': 'red_wine'}, inplace=True)\n",
        "encoded_wine_quality_df['red_wine'] = encoded_wine_quality_df['red_wine'].apply(lambda x: wine_type_to_int(x))"
      ],
      "metadata": {
        "id": "43_Lyx9oo2zq"
      },
      "execution_count": null,
      "outputs": []
    },
    {
      "cell_type": "code",
      "source": [
        "#Grader Cell (2 points)\n",
        "grader.grade(test_case_id = 'wine_type_encoding', answer = encoded_wine_quality_df)"
      ],
      "metadata": {
        "id": "sa082oxXE8F-",
        "colab": {
          "base_uri": "https://localhost:8080/"
        },
        "outputId": "e7d14bc3-3c9b-4b83-ccb7-f582f16ee099"
      },
      "execution_count": null,
      "outputs": [
        {
          "output_type": "stream",
          "name": "stdout",
          "text": [
            "Correct! You earned 2/2 points. You are a star!\n",
            "\n",
            "Your submission has been successfully recorded in the gradebook.\n"
          ]
        }
      ]
    },
    {
      "cell_type": "markdown",
      "source": [
        "### **1.3.2** Encode Classes in 'Quality' Column [4 Points]"
      ],
      "metadata": {
        "id": "4bVkkvxRrWuc"
      }
    },
    {
      "cell_type": "markdown",
      "source": [
        "**Task:** We will be predicting the `quality` for our classification problem. We first want to transform our target into numerical values. Map the classes in the quality column in the following way:\n",
        "*   0-5: 0\n",
        "*   6-10: 1\n",
        "\n",
        "This encoding represents low and high quality respectively. These will be the two classes we will try to predict using the other features about the wine.\n",
        "\n",
        "You should use `encoded_wine_quality_df` for this problem. Save your results in `encoded_wine_quality_df`."
      ],
      "metadata": {
        "id": "SGMeJ17zsX5v"
      }
    },
    {
      "cell_type": "code",
      "source": [
        "# TODO: create and apply a mapping\n",
        "class_map = {\n",
        "    0: 0,\n",
        "    1: 0,\n",
        "    2: 0,\n",
        "    3: 0,\n",
        "    4: 0,\n",
        "    5: 0,\n",
        "    6: 1,\n",
        "    7: 1,\n",
        "    8: 1,\n",
        "    9: 1,\n",
        "    10: 1,\n",
        "}\n",
        "\n",
        "encoded_wine_quality_df['quality'] = encoded_wine_quality_df['quality'].map(class_map)"
      ],
      "metadata": {
        "id": "HuPVCItW4oGe"
      },
      "execution_count": null,
      "outputs": []
    },
    {
      "cell_type": "code",
      "source": [
        "# Self-check\n",
        "encoded_wine_quality_df['quality'].unique()"
      ],
      "metadata": {
        "id": "adpWI7UivIlZ",
        "colab": {
          "base_uri": "https://localhost:8080/"
        },
        "outputId": "18327a3e-deaa-4215-ad5e-1c52267bcc7a"
      },
      "execution_count": null,
      "outputs": [
        {
          "output_type": "execute_result",
          "data": {
            "text/plain": [
              "array([1, 0])"
            ]
          },
          "metadata": {},
          "execution_count": 33
        }
      ]
    },
    {
      "cell_type": "code",
      "source": [
        "#Grader Cell (4 points)\n",
        "grader.grade(test_case_id = 'wine_quality_encoding', answer = (encoded_wine_quality_df['quality']))"
      ],
      "metadata": {
        "id": "ILEHbWkbrrfi",
        "colab": {
          "base_uri": "https://localhost:8080/"
        },
        "outputId": "a825ad29-2422-40c8-cb0e-48980e03ba6a"
      },
      "execution_count": null,
      "outputs": [
        {
          "output_type": "stream",
          "name": "stdout",
          "text": [
            "Correct! You earned 4/4 points. You are a star!\n",
            "\n",
            "Your submission has been successfully recorded in the gradebook.\n"
          ]
        }
      ]
    },
    {
      "cell_type": "markdown",
      "metadata": {
        "id": "K-iqlFZacKO9"
      },
      "source": [
        "## **1.4** Random Forest Classification (sklearn) [23 points]"
      ]
    },
    {
      "cell_type": "markdown",
      "source": [
        "### **1.4.1** Preprocessing: Create Features and Target and Split Data into Train and Test [4 Points]\n",
        "\n",
        "Now that we have explored and cleaned our dataset, let's prepare it for a machine learning task. In this homework, you will work with various models and attempt to predict the `quality` of the wine.\n",
        "\n",
        "The features will be all the variables in the dataset **except** `quality`, which will act as the label for our problem. First, store these two as `features` (pd.DataFrame) and `target` (pd.Series), respectively."
      ],
      "metadata": {
        "id": "xPBSUmK9HRHc"
      }
    },
    {
      "cell_type": "code",
      "source": [
        "# TODO: store features dataframe into variable called \"features\"\n",
        "features = encoded_wine_quality_df.drop('quality', axis=1)\n",
        "\n",
        "# TODO: store the classification target variable into \"target\"\n",
        "target = encoded_wine_quality_df['quality']\n"
      ],
      "metadata": {
        "id": "N7_jhB-LEVNK"
      },
      "execution_count": null,
      "outputs": []
    },
    {
      "cell_type": "markdown",
      "source": [
        "Now, use Scikit-learn's [`train_test_split`](https://scikit-learn.org/stable/modules/generated/sklearn.model_selection.train_test_split.html) function to split data for classification into training and testing sets. The split should be 80-20 meaning 80% for training and the rest for testing.\n",
        "\n",
        "**_IMPORTANT_: Please set the `seed` variable to 42 and then set the parameter to `random_state = seed`** and store the resulting splits as `X_train, X_test, y_train,` and `y_test`.\n",
        "\n",
        "If you want to understand the purpose of *seed*, please feel free read over this concise yet thorough explanation on [StackOverflow](https://stackoverflow.com/questions/21494489/what-does-numpy-random-seed0-do)."
      ],
      "metadata": {
        "id": "Q4IK9S59ud0Q"
      }
    },
    {
      "cell_type": "code",
      "source": [
        "# TODO: Assign appropriate value to seed and conduct 80/20 train-test split with random_state = seed\n",
        "RANDOM_SEED = np.random.seed(42)\n",
        "X_train, X_test, y_train, y_test = train_test_split(features, target, test_size=0.2, random_state=RANDOM_SEED)"
      ],
      "metadata": {
        "id": "D48UmEtDEo0g"
      },
      "execution_count": null,
      "outputs": []
    },
    {
      "cell_type": "markdown",
      "source": [
        "Let's also use a StandardScaler to standardize the set of X values. Make sure that there's no data leakage, in that the scaler should be trained ONLY on the training data. Name into `X_train_scaled` and `X_test_scaled`."
      ],
      "metadata": {
        "id": "UWBKaS1wXMTn"
      }
    },
    {
      "cell_type": "code",
      "source": [
        "# TODO: Use a StandardScaler to scale the X features\n",
        "scaler = StandardScaler()\n",
        "\n",
        "# Fit the scaler on the training data and transform the X_train features\n",
        "X_train_scaled = scaler.fit_transform(X_train)\n",
        "\n",
        "# Transform the X_test features (without refitting)\n",
        "X_test_scaled = scaler.transform(X_test)"
      ],
      "metadata": {
        "id": "FIJ7wF6LXI9U"
      },
      "execution_count": null,
      "outputs": []
    },
    {
      "cell_type": "code",
      "source": [
        "# Grader cell (4 points)\n",
        "grader.grade(test_case_id = 'train_test_split_classification', answer = (X_train_scaled, X_test_scaled, y_train, y_test))"
      ],
      "metadata": {
        "id": "Z4SMMl8JEqnT",
        "colab": {
          "base_uri": "https://localhost:8080/"
        },
        "outputId": "bc12a14a-5c0b-471a-a6d9-981cb661062c"
      },
      "execution_count": null,
      "outputs": [
        {
          "output_type": "stream",
          "name": "stdout",
          "text": [
            "Correct! You earned 4/4 points. You are a star!\n",
            "\n",
            "Your submission has been successfully recorded in the gradebook.\n"
          ]
        }
      ]
    },
    {
      "cell_type": "markdown",
      "source": [
        "### **1.4.2** Random Forest Classification without Grid Search [4 points]"
      ],
      "metadata": {
        "id": "IQid9KfyIN2-"
      }
    },
    {
      "cell_type": "markdown",
      "source": [
        "#### Raw Random Forest Classifier\n",
        "\n",
        "Fit a Random Forest classifier on the `X_train` and `y_train` with the hyperparameters provided below. Calculate the accuracy of the model on the test set using the `score` method and store it in a variable named `rf_acc`. We're later going to use grid search to tune the hyperparameters, but for now, let's use the parameters below.\n",
        "\n",
        "**Task:**\n",
        "\n",
        "*   Read the Scikit-learn [documentation](https://scikit-learn.org/stable/modules/generated/sklearn.ensemble.RandomForestClassifier.html) for Random Forest Classifier.\n",
        "*   For hyperparameters, set:\n",
        "    - `class_weight = 'balanced'`\n",
        "    - `n_estimators = 50`\n",
        "    - `max_depth = 10`\n",
        "    - `random_state = 42`\n",
        "*   Train the random forest classifier model and evaluate it using the `score` method.\n",
        "*   Save your score in a variable `rf_acc`.\n",
        "*   Use the scaled X data for all remaining sections"
      ],
      "metadata": {
        "id": "wgbNIcEFMch4"
      }
    },
    {
      "cell_type": "code",
      "source": [
        "# TODO: Import required libraries\n",
        "from sklearn.ensemble import RandomForestClassifier\n",
        "\n",
        "# TODO: Initialize model with given parameters and fit it on the training set\n",
        "model = RandomForestClassifier(class_weight='balanced', n_estimators=50, max_depth=10, random_state=42)\n",
        "model.fit(X_train, y_train)\n",
        "\n",
        "# TODO: Use the model to predict on the test set and save these predictions as `y_pred`\n",
        "y_pred = model.predict(X_test)\n",
        "\n",
        "# TODO: Find the accuracy and store the value in `rf_acc`\n",
        "rf_acc = accuracy_score(y_test, y_pred)\n",
        "\n",
        "# sanity check\n",
        "rf_acc"
      ],
      "metadata": {
        "id": "tk9YGVBVFTIe",
        "colab": {
          "base_uri": "https://localhost:8080/"
        },
        "outputId": "deb90b4b-e6fb-4633-ee4b-18cea90f28b0"
      },
      "execution_count": null,
      "outputs": [
        {
          "output_type": "execute_result",
          "data": {
            "text/plain": [
              "0.811291569992266"
            ]
          },
          "metadata": {},
          "execution_count": 39
        }
      ]
    },
    {
      "cell_type": "code",
      "source": [
        "#Grader Cell (4 points)\n",
        "grader.grade(test_case_id = 'check_random_forest_raw', answer = (rf_acc))"
      ],
      "metadata": {
        "id": "rlpS3wDEE9-T",
        "colab": {
          "base_uri": "https://localhost:8080/"
        },
        "outputId": "2bef374b-d792-4917-9473-0e60953b0041"
      },
      "execution_count": null,
      "outputs": [
        {
          "output_type": "stream",
          "name": "stdout",
          "text": [
            "Correct! You earned 4/4 points. You are a star!\n",
            "\n",
            "Your submission has been successfully recorded in the gradebook.\n"
          ]
        }
      ]
    },
    {
      "cell_type": "markdown",
      "source": [
        "### **1.4.3** Random Forest Classification with Grid Search and Cross Validation [15 points]"
      ],
      "metadata": {
        "id": "z4Hve8E1YUTC"
      }
    },
    {
      "cell_type": "markdown",
      "source": [
        "Now, we're interested in tuning the hyperparameters of the random forest model to see if we're able to achieve a higher testing score. We will be using sklearn's `GridSearchCV` utility to do this. After defining a set of parameters and respective values to check, grid search will check through all combinations of those parameters and test using a subset of the training data (cross validation). To learn more about `GridSearchCV`, we've attached the documentation [here](https://scikit-learn.org/dev/modules/generated/sklearn.model_selection.GridSearchCV.html)\n",
        "\n",
        "Complete the following:\n",
        "\n",
        "\n",
        "1.   First, let's define the parameter grid. We're interested in tuning the following set of hyperparameters below with their corresponding ranges of values. Name the parameter grid `param_grid`.\n",
        "\n",
        "\n",
        "*   `n_estimators`: [50, 100, 150]\n",
        "*   `max_depth`: [5, 10, 15]\n",
        "*   `class_weight`: ['balanced']\n",
        "*   `random_state`: [42]\n",
        "\n",
        "2. Second, let's instantiate our random forest model in the variable `random_forest_model` with default initialization.\n",
        "\n",
        "3. Then, define the GridSearchCV object, using the estimator `random_forest_model`, the param grid defined above, a `cv` (cross validation) set to 5, scoring set to 'accuracy', and `verbose` set to `True`\n",
        "\n",
        "4.   Then, fit the model and print out the best parameters / cross validation score.\n",
        "\n",
        "5.  Finally, we'll use our best model and evaluate it against our test data. Save the accuracy into `test_accuracy`\n",
        "\n",
        "\n",
        "\n"
      ],
      "metadata": {
        "id": "CVYGjfGhYWgu"
      }
    },
    {
      "cell_type": "code",
      "source": [
        "# TODO: Using cross validation and grid search to tune the hyperparameters of the random forest model\n",
        "\n",
        "# Define parameter grid\n",
        "param_grid = {'n_estimators' : [50, 100, 150], 'max_depth': [5, 10, 15], 'class_weight' : ['balanced'], 'random_state' : [42]}\n",
        "\n",
        "# Instantiate the random forest model\n",
        "random_forest_model = RandomForestClassifier()\n",
        "\n",
        "# Define the grid search object\n",
        "grid_search = GridSearchCV(estimator=random_forest_model, param_grid=param_grid, cv=5, scoring='accuracy', verbose=True)\n",
        "\n",
        "# Fit the grid search\n",
        "grid_search.fit(X_train, y_train)\n",
        "\n",
        "# Print the best parameters and cross validation score\n",
        "print(\"Best Parameters:\", grid_search.best_params_)\n",
        "print(\"Best Cross Validation Score:\", grid_search.best_score_)"
      ],
      "metadata": {
        "id": "DkioAGdLaaN4",
        "colab": {
          "base_uri": "https://localhost:8080/"
        },
        "outputId": "5f4d2218-bf7f-4fb5-b9f8-5be66ba3b407"
      },
      "execution_count": null,
      "outputs": [
        {
          "output_type": "stream",
          "name": "stdout",
          "text": [
            "Fitting 5 folds for each of 9 candidates, totalling 45 fits\n",
            "Best Parameters: {'class_weight': 'balanced', 'max_depth': 15, 'n_estimators': 150, 'random_state': 42}\n",
            "Best Cross Validation Score: 0.8205029013539651\n"
          ]
        }
      ]
    },
    {
      "cell_type": "code",
      "source": [
        "best_model = grid_search.best_estimator_\n",
        "y_pred = best_model.predict(X_test)\n",
        "test_accuracy = accuracy_score(y_test, y_pred)\n",
        "print(\"Test Set Accuracy:\", test_accuracy)"
      ],
      "metadata": {
        "id": "hh3KZZTWbl49",
        "colab": {
          "base_uri": "https://localhost:8080/"
        },
        "outputId": "deed6834-0192-4f20-c256-6e59a5906504"
      },
      "execution_count": null,
      "outputs": [
        {
          "output_type": "stream",
          "name": "stdout",
          "text": [
            "Test Set Accuracy: 0.822892498066512\n"
          ]
        }
      ]
    },
    {
      "cell_type": "code",
      "source": [
        "# Grader cell\n",
        "grader.grade(test_case_id = 'rf_grid_search', answer = (param_grid, test_accuracy))"
      ],
      "metadata": {
        "id": "WpyEHnxmcf6x",
        "colab": {
          "base_uri": "https://localhost:8080/"
        },
        "outputId": "399f679f-e083-48c5-a208-171b0917f56e"
      },
      "execution_count": null,
      "outputs": [
        {
          "output_type": "stream",
          "name": "stdout",
          "text": [
            "Correct! You earned 4/4 points. You are a star!\n",
            "\n",
            "Your submission has been successfully recorded in the gradebook.\n"
          ]
        }
      ]
    },
    {
      "cell_type": "markdown",
      "source": [
        "### **1.4.4** Random Forest Feature Importance [5 points]"
      ],
      "metadata": {
        "id": "BDB5BOPocnbz"
      }
    },
    {
      "cell_type": "markdown",
      "source": [
        "Now, let's find the relative feature importance for predicting the quality of wine. Use the best model from above, and create a Seaborn bar plot to display the feature importance. Save the feature importances into `feature_importances`.\n",
        "\n",
        "Specifications for plot:\n",
        "\n",
        "\n",
        "*   The feature importances should be sorted in descending order\n",
        "*   Use a Seaborn bar plot. If you're confused on the syntax, the documentation is [here](https://seaborn.pydata.org/generated/seaborn.barplot.html)\n",
        "*   Use a figure size of (10, 6)\n",
        "*   Properly label the title and axes.\n",
        "\n"
      ],
      "metadata": {
        "id": "fYvqQMZlcrJk"
      }
    },
    {
      "cell_type": "code",
      "source": [
        "# TODO (Manually graded 3 points + 2 points autograded): Create a bar plot for the feature importances\n",
        "feature_importances = best_model.feature_importances_\n",
        "feature_names = features.columns\n",
        "\n",
        "sorted_indices = np.argsort(feature_importances)[::-1]\n",
        "sorted_feature_importances = feature_importances[sorted_indices]\n",
        "sorted_feature_names = feature_names[sorted_indices]\n",
        "\n",
        "plt.figure(figsize=(10, 6))\n",
        "sns.barplot(x=sorted_feature_importances, y=sorted_feature_names)\n",
        "plt.title('Feature Importance')\n",
        "plt.xlabel('Importance')\n",
        "plt.ylabel('Features')\n",
        "plt.show()"
      ],
      "metadata": {
        "id": "7L-uJ5vadcm9",
        "colab": {
          "base_uri": "https://localhost:8080/",
          "height": 564
        },
        "outputId": "be71a3bf-a2d3-4e67-d74d-d7cb8d63837d"
      },
      "execution_count": null,
      "outputs": [
        {
          "output_type": "display_data",
          "data": {
            "text/plain": [
              "<Figure size 1000x600 with 1 Axes>"
            ],
            "image/png": "[encoded data removed]"
          },
          "metadata": {}
        }
      ]
    },
    {
      "cell_type": "code",
      "source": [
        "# Grader cell\n",
        "grader.grade(test_case_id = 'rf_feature_importance', answer = (feature_importances))"
      ],
      "metadata": {
        "id": "Dlz24QOu4RXT",
        "colab": {
          "base_uri": "https://localhost:8080/"
        },
        "outputId": "413fd326-bf77-4119-cc7b-c7566e336939"
      },
      "execution_count": null,
      "outputs": [
        {
          "output_type": "stream",
          "name": "stdout",
          "text": [
            "Correct! You earned 2/2 points. You are a star!\n",
            "\n",
            "Your submission has been successfully recorded in the gradebook.\n"
          ]
        }
      ]
    },
    {
      "cell_type": "markdown",
      "source": [
        "### **1.4.5** Random Forest Confusion Matrix [4 points]"
      ],
      "metadata": {
        "id": "XeiC9TSVgE4h"
      }
    },
    {
      "cell_type": "markdown",
      "source": [
        "Finally, we will make use of a **confusion matrix**. It is used to consolidate the predictive performance of a model into a single table. In a binary classification scenario, it looks like this:"
      ],
      "metadata": {
        "id": "7lyQWxLqjzFB"
      }
    },
    {
      "cell_type": "markdown",
      "source": [
        "Evaluate the performance using sklearn's confusion matrix like before, and we'll use a seaborn heatmap to display our results. Save the confusion matrix into `conf_matrix`. Use sklearn's confusion_matrix utility.\n",
        "\n",
        "Additionally, we will use the following set of parameters for our display:\n",
        "\n",
        "\n",
        "\n",
        "1.   set `annot=True`\n",
        "2.   `fmt='d'`\n",
        "3.   colormap set to 'Blues'\n",
        "4.   colorbar set to False\n",
        "5.   x and y tick labels set to True\n",
        "6.   Axes and title labels\n",
        "\n"
      ],
      "metadata": {
        "id": "FBjkb5KAn2rl"
      }
    },
    {
      "cell_type": "code",
      "source": [
        "# TODO: Create a Seaborn heat map to display the confusion matrix (manually graded 2 points)\n",
        "from sklearn.metrics import confusion_matrix\n",
        "\n",
        "conf_matrix = confusion_matrix(y_pred, y_test)\n",
        "\n",
        "sns.heatmap(conf_matrix, annot=True, fmt='d', cmap='Blues', cbar=False, xticklabels=True, yticklabels=True)\n",
        "plt.title('Confusion Matrix')\n",
        "plt.ylabel('Predicted Label')\n",
        "plt.xlabel('True Label')\n",
        "\n",
        "plt.show()"
      ],
      "metadata": {
        "id": "IJ7JKag7jUMW",
        "colab": {
          "base_uri": "https://localhost:8080/",
          "height": 472
        },
        "outputId": "5e9b49d9-df6c-4c5b-93c6-f1c3a3540f24"
      },
      "execution_count": null,
      "outputs": [
        {
          "output_type": "display_data",
          "data": {
            "text/plain": [
              "<Figure size 640x480 with 1 Axes>"
            ],
            "image/png": "[encoded data removed]"
          },
          "metadata": {}
        }
      ]
    },
    {
      "cell_type": "code",
      "source": [
        "# 2 points\n",
        "#Grader cell\n",
        "grader.grade(test_case_id = 'rf_confusion_matrix', answer = (conf_matrix))"
      ],
      "metadata": {
        "id": "jAcHDaDPqp4Z",
        "colab": {
          "base_uri": "https://localhost:8080/"
        },
        "outputId": "8c044cbd-24ea-4304-9fa0-00f9bc2c65c9"
      },
      "execution_count": null,
      "outputs": [
        {
          "output_type": "stream",
          "name": "stdout",
          "text": [
            "Correct! You earned 2/2 points. You are a star!\n",
            "\n",
            "Your submission has been successfully recorded in the gradebook.\n"
          ]
        }
      ]
    },
    {
      "cell_type": "markdown",
      "source": [
        "### **1.4.6** Confusion Matrix Interpretation [Manually Graded 2 points]"
      ],
      "metadata": {
        "id": "yWeogYQRg0yU"
      }
    },
    {
      "cell_type": "markdown",
      "source": [
        "From the confusion matrix above, we see that the model is relatively balanced in its predictions, despite there being a class imbalance in our data. What technique did we use in previous steps helped address the class imbalance and why did it help?\n",
        "\n",
        "**Respond here:**\n",
        "When fitting the model and doing hyperparamter tuning, we used balanced class weights which forced the model to pay more attention to the imbalanced data. It weighs the underrepresented data more heavily which keeps the model balanced.\n"
      ],
      "metadata": {
        "id": "yMxLha-sg46A"
      }
    },
    {
      "cell_type": "markdown",
      "source": [
        "# **PART II**: CNN with Pytorch (38 Points)\n",
        "\"Convoluted\" Convolutional Neural Networks (Total: 29 points)\n",
        "So, what are CNNs?\n",
        "\n",
        "Convolutional Neural Networks are made up of neurons that have learnable weights and biases. Each neuron receives some inputs, performs a dot product and optionally follows it with a non-linearity. The whole network still expresses a single differentiable score function: from the raw image pixels on one end to class scores at the other.\n",
        "\n",
        "So what changes? ConvNet architectures make the explicit assumption that the inputs are images, which allows us to encode certain properties into the architecture. These then make the forward function more efficient to implement and vastly reduce the amount of parameters in the network.\n",
        "\n",
        "If you wanna know more about how CNNs function and see some cool visualizations, we would highly recommend this [page](https://cs231n.github.io/convolutional-networks/)\n",
        "\n"
      ],
      "metadata": {
        "id": "0S9ox2ftIqoB"
      }
    },
    {
      "cell_type": "markdown",
      "source": [
        "We will define the architecture for the CNN we will be using. The components of a CNNs are as follows:\n",
        "\n",
        "*   Convolutional Layers\n",
        "*   Pooling Layers\n",
        "*   Linear Layers\n",
        "*   Activation Functions\n",
        "\n",
        "Define a CNN model with Pytorch that contains one or more blocks, where **each block** consists of a **convolutional layer** followed by an **activation function** and a **max pool**. (For this assignment, we discourage adding three or more layers.)\n",
        "\n",
        "Then, **flatten** the output from the convolutional layers, and pass it through one or more fully connected or 'dense' layers and activation functions after all but the last layer. Note that the output shape from the last layer must be the same as the number of classes."
      ],
      "metadata": {
        "id": "IRg60QWbI5uB"
      }
    },
    {
      "cell_type": "markdown",
      "source": [
        "## 2.1. Data Preprocessing and Preparation for Modeling in `PyTorch` (Total: 10 points)\n",
        "\n",
        "We will tackle the problem of classifying images.\n",
        "\n",
        "Specifically, we would be looking at the Modified National Institute of Standards and Technology database ([MNIST](https://en.wikipedia.org/wiki/MNIST_database)) dataset.\n",
        "\n",
        "[MNIST](https://pytorch.org/vision/stable/generated/torchvision.datasets.MNIST.html) dataset consists of 60,000 28x28 grayscale images in 10 classes.\n",
        "\n",
        "There are 60,000 training images and 10,000 test images.\n",
        "\n",
        "While it is good to have as much training data as possible, in order to avoid having long training time and potentially running out of GPU, we will downsample and train the model with 30,000 training images and 5,000 testing images.\n",
        "\n"
      ],
      "metadata": {
        "id": "lotulquzfD8n"
      }
    },
    {
      "cell_type": "markdown",
      "source": [
        "### Pytorch Dataset and DataLoader (Total: 10 points)\n",
        "\n",
        "To keep data loading consistent across different models, PyTorch provides two data primitives: `torch.utils.data.DataLoader` and `torch.utils.data.Dataset` that allow you to use pre-loaded datasets as well as your own data.\n",
        "\n",
        "`Dataset` stores the samples and their corresponding labels. And `DataLoader` wraps an iterable around the Dataset to enable easy access to the samples. More information and examples of the objects in action can be found **[here](https://pytorch.org/tutorials/beginner/basics/data_tutorial.html)**\n",
        "\n",
        "While Pytorch provides `Dataset` and `Dataloader` for some popular datasets (i.e., one can instantiate the objects and the data is ready to be analyzed in PyTorch Machine Learning pipeline), sometimes we need to define our own custom `Dataset` to process our dataset. The list of available built-in datasets PyTorch gave us can be found **[here](https://pytorch.org/vision/stable/datasets.html)**\n",
        "\n",
        "\n",
        "Diagram Reference: [Link](https://www.kaggle.com/code/uvxy1234/cifar-10-implementation-with-pytorch)"
      ],
      "metadata": {
        "id": "L2ZLOEJDfhgu"
      }
    },
    {
      "cell_type": "markdown",
      "source": [
        "Dataset class is defined with 3 components:\n",
        "\n",
        "1.   __init__ : setting up the parameters being used in the class (e.g., `transforms` which corresponds to the transformation being applied)\n",
        "2.   __len__ : so that len(dataset) returns the size of the dataset.\n",
        "3.   __getitem__ to support the indexing such that `dataset[i]` can be used to get `i`ith sample (in our case Image, label pair).\n",
        "\n",
        "To create a custom Dataset object, you would need overide above functions.\n",
        "\n",
        "Documentation for creating custom dataset can be found [here](https://pytorch.org/tutorials/beginner/data_loading_tutorial.html).\n",
        "\n",
        "Luckily, as MNIST is a classic image dataset, we do not need to worry about creating custom `Dataset` and `DataLoader` objects since they are all built into the PyTorch when you import that above.\n",
        "\n",
        "Complete the missing code in the two sections below.\n",
        "\n",
        "*   **2.1.1 Instantiate Train and Test Dataset.** $\\to$ Load and transform data such that it is ready to be passed into the model\n",
        "*   **2.1.2 Instantiate Train and Test Dataloader.** $\\to$ Put the data into the iterable such that the model is able to process data in batch from using `DataLoader`"
      ],
      "metadata": {
        "id": "rmEuCYEVfmzd"
      }
    },
    {
      "cell_type": "markdown",
      "source": [
        "### 2.1.1 Instantiate Dataset (for train/test dataset) (6 points)\n",
        "\n",
        "One optional function in Dataset class is `transform`, where we can apply a transformation to the dataset before we load them as a dataloader.\n",
        "\n",
        "For example if we define a `Resize` function in transform, all of our dataset(images) would be resized to specified size passed in as an argument.\n",
        "\n",
        "---\n",
        "**TODO**: complete the code to apply following transformations (in order!!) by using `transforms.Compose` and save it to the variable `transform`:\n",
        "\n",
        "1.   Resize the image to 28 by 28 $\\to$ just to make sure they are really have size $28x28$\n",
        "2.   Convert the images to Tensor\n",
        "3.   Rotate the image using `RandomRotation` with the range of rotation between $(-45°,45°)$\n",
        "4.   Add random perspective shift using `RandomPerspective` with the distortion of `0.3` to `50%` of the data.\n",
        "5.   Normalize the Tensor using mean value of `0.1307` and standard deviation value of `0.3081`. Note: do not use square brackets in your syntax.\n",
        "---\n",
        "**NOTE**: We highly recommend looking at [PyTorch documentation](https://pytorch.org/vision/stable/transforms.html) before proceeding with the code\n",
        "\n",
        "Please review the the recitation notebook for detailed instructions on how to perform these operations.\n",
        "\n",
        "**FYI**: The values `0.1307` and `0.3081` are mean and standard deviation, respectively, of the MNIST dataset [Ref](https://discuss.pytorch.org/t/normalization-in-the-mnist-example/457/4)\n",
        "\n",
        "**NOTE**: Please store the distortion of image in the variable `distortion_scale` since it will be used as an input into the autograder."
      ],
      "metadata": {
        "id": "CJSBtcCefqo5"
      }
    },
    {
      "cell_type": "code",
      "source": [
        "import torchvision.transforms as transforms\n",
        "scale = 28\n",
        "# TODO\n",
        "distortion_scale = 0.3\n",
        "transform = transforms.Compose([\n",
        "    transforms.Resize((28, 28)),\n",
        "    transforms.ToTensor(),\n",
        "    transforms.RandomRotation(degrees=[-45, 45]),\n",
        "    transforms.RandomPerspective(distortion_scale=0.3, p=0.5),\n",
        "    transforms.Normalize(mean=0.1307, std=0.3081)])\n",
        "# TODO END"
      ],
      "metadata": {
        "id": "afacSSojfgxC"
      },
      "execution_count": null,
      "outputs": []
    },
    {
      "cell_type": "markdown",
      "source": [
        "Now that we have defined the tranforms we are going to apply to the dataset, let's instantiate `Dataset` objects for both the training and testing sets using predefined PyTorch Dataset. Refer to the documentation [here](https://pytorch.org/vision/stable/generated/torchvision.datasets.MNIST.html).\n",
        "\n",
        "In addition, since the whole dataset is pretty large for running the model, we will also be downsampling by reducing the size of the dataset by half.\n",
        "\n",
        "---\n",
        "**TODO**:\n",
        "* Initiate the `Dataset` object for the training set as `train_dataset`\n",
        "* Downsample training by getting the train data at even-numbered indices, specified as `train_subset`\n",
        "* Initiate the `Dataset` object for the testing set as `test_dataset`\n",
        "* Downsample testing by getting the test data at even-numbered indices, specified as `test_subset`\n",
        "---\n",
        "\n",
        "**Hint**: Check out [`torch.utils.data.Subset`](https://pytorch.org/docs/stable/data.html#torch.utils.data.Subset) for downsampling the dataset.\n",
        "\n",
        "**Note**: When initiating the `Dataset` object for both training and testing sets, in addition to other arguments please set these arguments as follows:\n",
        "* `root = './data'`\n",
        "* `download = True`"
      ],
      "metadata": {
        "id": "aF8ZHe3qf3dS"
      }
    },
    {
      "cell_type": "code",
      "source": [
        "# TODO\n",
        "from torchvision.datasets import MNIST\n",
        "from torch.utils.data import Subset\n",
        "\n",
        "train_dataset = MNIST(root='./data', download=True, train=True, transform=transform)\n",
        "train_subset_indices = list(range(0, len(train_dataset), 2))\n",
        "train_subset = Subset(train_dataset, train_subset_indices)\n",
        "\n",
        "test_dataset = MNIST(root='./data', download=True, train=False, transform=transform)\n",
        "test_subset_indices = list(range(0, len(test_dataset), 2))\n",
        "test_subset = Subset(test_dataset, test_subset_indices)\n",
        "# TODO END"
      ],
      "metadata": {
        "id": "b623ddUgfOQT"
      },
      "execution_count": null,
      "outputs": []
    },
    {
      "cell_type": "code",
      "source": [
        "print(len(train_dataset))\n",
        "print(len(test_dataset))\n",
        "print('=============')\n",
        "print(len(train_subset))\n",
        "print(len(test_subset))\n",
        "print('=============')\n",
        "transforms_list = []\n",
        "for i in range(len(train_dataset.transform.transforms)):\n",
        "  transforms_list.append(str(train_dataset.transform.transforms[i]))\n",
        "print(transforms_list)\n",
        "print(len(transforms_list))"
      ],
      "metadata": {
        "id": "1tBo2CCsf-yH",
        "colab": {
          "base_uri": "https://localhost:8080/"
        },
        "outputId": "f5ef3c73-5fc8-430c-9297-1fb29275078e"
      },
      "execution_count": null,
      "outputs": [
        {
          "output_type": "stream",
          "name": "stdout",
          "text": [
            "60000\n",
            "10000\n",
            "=============\n",
            "30000\n",
            "5000\n",
            "=============\n",
            "['Resize(size=(28, 28), interpolation=bilinear, max_size=None, antialias=True)', 'ToTensor()', 'RandomRotation(degrees=[-45.0, 45.0], interpolation=nearest, expand=False, fill=0)', 'RandomPerspective(p=0.5)', 'Normalize(mean=0.1307, std=0.3081)']\n",
            "5\n"
          ]
        }
      ]
    },
    {
      "cell_type": "code",
      "source": [
        "#Grader Cell (6 points)\n",
        "transforms_train = []\n",
        "for i in range(len(train_dataset.transform.transforms)):\n",
        "  transforms_train.append(str(train_dataset.transform.transforms[i]))\n",
        "transforms_test = []\n",
        "for i in range(len(test_dataset.transform.transforms)):\n",
        "  transforms_test.append(str(test_dataset.transform.transforms[i]))\n",
        "grader.grade(test_case_id = 'instantiate_dataset', answer = (transforms_train, transforms_test, len(train_subset), len(test_subset), distortion_scale))"
      ],
      "metadata": {
        "id": "EHBJ0-QxgA9Z",
        "colab": {
          "base_uri": "https://localhost:8080/"
        },
        "outputId": "c7b487b1-f413-43bf-b1c3-8767c3843f46"
      },
      "execution_count": null,
      "outputs": [
        {
          "output_type": "stream",
          "name": "stdout",
          "text": [
            "Correct! You earned 6/6 points. You are a star!\n",
            "\n",
            "Your submission has been successfully recorded in the gradebook.\n"
          ]
        }
      ]
    },
    {
      "cell_type": "markdown",
      "source": [
        "### 2.1.2 Dataloader - Train / Test (4 points)\n",
        "\n",
        "Now that we have `train_subset` and `test_subset`, let's create dataloaders using these two datasets.\n",
        "\n",
        "You can load the dataset into dataloaders using the `DataLoaders` object. Please refer to the documentation [here](https://pytorch.org/docs/stable/data.html#torch.utils.data.DataLoader).\n",
        "\n",
        "---\n",
        "**TODO**:\n",
        "* Initialize the `DataLoader` object for `train_subset` as `train_loader`\n",
        "* Initialize the `DataLoader` object for `test_subset` as `test_loader`\n",
        "---\n",
        "\n",
        "**NOTE**: set the `batch_size` equal to the previously-defined variable `batch`, set `shuffle` to `True`, and `num_workers` as 0."
      ],
      "metadata": {
        "id": "UcOIad9dgCBW"
      }
    },
    {
      "cell_type": "code",
      "source": [
        "batch = 64\n",
        "# TODO\n",
        "from torch.utils.data import DataLoader\n",
        "train_loader = DataLoader(train_subset, batch_size=batch, shuffle=True, num_workers=0)\n",
        "test_loader = DataLoader(test_subset, batch_size=batch, shuffle=True, num_workers=0)\n",
        "# TODO END"
      ],
      "metadata": {
        "id": "QqdeUkpGgmaj"
      },
      "execution_count": null,
      "outputs": []
    },
    {
      "cell_type": "code",
      "source": [
        "#Grader Cell (4 points)\n",
        "trainLoaderCheck = [getattr(train_loader, \"batch_size\"),\n",
        "                    str(type(train_loader)),\n",
        "                    len(getattr(train_loader, \"dataset\")),\n",
        "                    str(getattr(train_loader, \"sampler\")),\n",
        "                    getattr(train_loader, \"num_workers\")]\n",
        "testLoaderCheck = [getattr(test_loader, \"batch_size\"),\n",
        "                    str(type(test_loader)),\n",
        "                    len(getattr(test_loader, \"dataset\")),\n",
        "                    str(getattr(test_loader, \"sampler\")),\n",
        "                    getattr(test_loader, \"num_workers\")]\n",
        "grader.grade(test_case_id = 'check_dataloader', answer = (trainLoaderCheck, testLoaderCheck))"
      ],
      "metadata": {
        "id": "rqDUBYxEgon9",
        "colab": {
          "base_uri": "https://localhost:8080/"
        },
        "outputId": "6df1213e-0df6-442e-d3c0-32f27c6128c0"
      },
      "execution_count": null,
      "outputs": [
        {
          "output_type": "stream",
          "name": "stdout",
          "text": [
            "Correct! You earned 4/4 points. You are a star!\n",
            "\n",
            "Your submission has been successfully recorded in the gradebook.\n"
          ]
        }
      ]
    },
    {
      "cell_type": "markdown",
      "source": [
        "The following code helps you to visualize the dataset"
      ],
      "metadata": {
        "id": "Ktx84U3mg1vp"
      }
    },
    {
      "cell_type": "code",
      "source": [
        "torch.manual_seed(42)\n",
        "sample_idxs = [10, 300, 700, 2708, 5035, 8000] # DO NOT MODIFY\n",
        "\n",
        "# loop through the length of tickers and keep track of index\n",
        "\n",
        "plt.figure(figsize=(8,4))\n",
        "\n",
        "for n, sample_idx in enumerate(sample_idxs):\n",
        "    # get data and label\n",
        "    data, label = train_dataset[sample_idx]\n",
        "    data = data.permute(1,2,0).detach().cpu().numpy()\n",
        "    # add a new subplot iteratively\n",
        "    ax = plt.subplot(2, 3, n + 1)\n",
        "\n",
        "    # show the image in grayscale\n",
        "    ax.imshow(data, cmap='gray')\n",
        "\n",
        "    # chart formatting\n",
        "    ax.set_title(label)\n",
        "    ax.grid(False)\n",
        "    ax.axis('off')\n",
        "\n",
        "plt.tight_layout()\n",
        "plt.show()\n"
      ],
      "metadata": {
        "id": "HNNUluw8g1L6",
        "colab": {
          "base_uri": "https://localhost:8080/",
          "height": 407
        },
        "outputId": "c39e091d-2b8b-4588-b4b5-94626fdda48b"
      },
      "execution_count": null,
      "outputs": [
        {
          "output_type": "display_data",
          "data": {
            "text/plain": [
              "<Figure size 800x400 with 6 Axes>"
            ],
            "image/png": "[encoded data removed]"
          },
          "metadata": {}
        }
      ]
    },
    {
      "cell_type": "markdown",
      "source": [
        "## 2.2 Model Architecture (15 points)"
      ],
      "metadata": {
        "id": "mP559oxI1BN5"
      }
    },
    {
      "cell_type": "markdown",
      "source": [
        "### 2.2.1 Calculating Output Dimensions of Convolution and Pooling Layers (3 Points)\n",
        "\n",
        "Before we start building the architecture, it's important to understand the dimensions of the feature maps produced in each of the convolution and pooling layers. We want to keep track of this information as once we get to the fully-connected layers, we need to specify the number of input parameters.\n",
        "\n",
        "Let's first build a function that will help us calculate the dimensions based on the input parameters.\n",
        "\n",
        "\n",
        "Since we are working with squared image, we will build just one function that can be used to calculate both the H (height) and W (width) of the feature map.\n",
        "\n",
        "Below is the function used to calculate the output dimension of the feature map:\n",
        "\n",
        "\n",
        "Diagram Reference: [Link](https://pytorch.org/docs/stable/generated/torch.nn.Conv2d.html)"
      ],
      "metadata": {
        "id": "AWIhY3EKI5r3"
      }
    },
    {
      "cell_type": "markdown",
      "source": [
        "---\n",
        "**TODO:**\n",
        "\n",
        "Build the **feature_map_dim** function, which takes in the following four parameters and return the dimension of the output feature map.\n",
        "\n",
        "- **input_dim**: height/width of the input image\n",
        "\n",
        "- **kernel_size**: size of the convolving kernel (aka. filter)\n",
        "\n",
        "- **padding**: padding added to all four sides of the input in order to preserve the edges/borders\n",
        "\n",
        "- **stride**: Stride of the convolution, or how many shifts per kernel\n",
        "  \n",
        "ROUND DOWN if the result is a fraction.\n",
        "\n",
        "---\n",
        "\n",
        "Notice there is another parameter, \"dilation\", which is the spacing between kernel elements. We have not covered this in class; simply set it to 1."
      ],
      "metadata": {
        "id": "lOBzsyWhI5p4"
      }
    },
    {
      "cell_type": "code",
      "source": [
        "import math\n",
        "\n",
        "def feature_map_dim(input_dim, padding, kernel_size, stride):\n",
        "  '''\n",
        "  The function takes in the following four parameters and return the dimension of the output feature map.\n",
        "\n",
        "  input_dim: height/width of the input image\n",
        "  kernel_size: size of the convolving kernel (aka. filter)\n",
        "  padding: padding added to all four sides of the input in order to preserve the edges/borders\n",
        "  stride: Stride of the convolution, or how many shifts per kernel\n",
        "\n",
        "  ROUND DOWN if the result if a fraction.\n",
        "\n",
        "  Notice there is another parameter, \"dilation\", which is the spacing between kernel elements. We have not covered this in class; simply set it to 1\n",
        "  '''\n",
        "  ## TODO:\n",
        "\n",
        "  output_dim = math.floor((input_dim + 2 * padding - 1 * (kernel_size - 1) - 1) / stride) + 1\n",
        "\n",
        "  ## END TODO\n",
        "  return output_dim"
      ],
      "metadata": {
        "id": "1Ls3ASzBKKzD"
      },
      "execution_count": null,
      "outputs": []
    },
    {
      "cell_type": "code",
      "source": [
        "student_ans_1 = feature_map_dim(28, 1, 3, 1)\n",
        "student_ans_2 = feature_map_dim(28, 2, 4, 2)\n",
        "student_ans_3 = feature_map_dim(17, 0, 2, 2)\n",
        "student_ans = [student_ans_1, student_ans_2, student_ans_3]"
      ],
      "metadata": {
        "id": "FazFWzncS8VP"
      },
      "execution_count": null,
      "outputs": []
    },
    {
      "cell_type": "code",
      "source": [
        "#Grader Cell (3 points)\n",
        "grader.grade(test_case_id = 'test_feature_map_dim', answer = student_ans)"
      ],
      "metadata": {
        "id": "vqJAqSlmdLwa",
        "colab": {
          "base_uri": "https://localhost:8080/"
        },
        "outputId": "efa83cd2-8320-4759-cc1c-6192422d3acc"
      },
      "execution_count": null,
      "outputs": [
        {
          "output_type": "stream",
          "name": "stdout",
          "text": [
            "Correct! You earned 3/3 points. You are a star!\n",
            "\n",
            "Your submission has been successfully recorded in the gradebook.\n"
          ]
        }
      ]
    },
    {
      "cell_type": "markdown",
      "source": [
        "### 2.2.2 Convolutional Neural Network Model Architecture (12 points)"
      ],
      "metadata": {
        "id": "_YDSYdeJdNq6"
      }
    },
    {
      "cell_type": "markdown",
      "source": [
        "---\n",
        "**TODOs:**\n",
        "\n",
        "`def __init__(self)`::\n",
        "1.  Initialize 1 - 3 `convolutional blocks` (consists of a convolution layer, an activation function, and a Pooling layer)\n",
        "\n",
        "2. `Flatten` the output of the convolution to a tensor\n",
        "\n",
        "3. Initialize 1-3 `fully-connected layers`\n",
        "\n",
        "`def forward(self, x)`:\n",
        "4. Build the `forward` function/path with the layers initialized in `__init__` function.\n",
        "\n",
        "---\n",
        "\n",
        "- **Note:** While parameters of convolution layers tend to vary, it is possible to use the same pooling layer and activation function in each block. If you intend to use the same parameters for these two elements, then only 1 pooling layer and 1 activation function needs to be initialized.\n",
        "- **Hint 1**: Use the `feature_map_dim` function, and the input_dim and output_dim comments to help you keep track of the input/output dimensions of each layer\n",
        "- **Hint 2**: The parameters you've calculated is particularly useful for the input dimensions for the linear layer in the first fully-connected layer.\n",
        "- **Hint 3**: Each input is a grey-scaled (1 channel) 28 x 28 image.\n",
        "- **Hint 4**: The final fully-connected layer's output dimension should be the same as the number of classes in our dataset\n"
      ],
      "metadata": {
        "id": "W-odPRnUdRVM"
      }
    },
    {
      "cell_type": "code",
      "source": [
        "class CNN(nn.Module):\n",
        "    def __init__(self):\n",
        "        super().__init__()\n",
        "        # TODO\n",
        "\n",
        "        # 1. Initialize 1 - 3 convolution blocks (consists of a convolution layer, an activation function, a MaxPooling layer)\n",
        "\n",
        "        # Convolution Block 1\n",
        "        self.conv1 = nn.Conv2d(in_channels=1, out_channels=5, kernel_size=3, stride=1)\n",
        "        # input dim = 1 channels, with image size 28 x 28\n",
        "        # output dim = 5 channels, with image size 27 x 27\n",
        "        self.mp1 = nn.MaxPool2d(kernel_size=2) # default stride is the same as the kernel size\n",
        "        # input dim = 5 channels, with image size 27 x 27\n",
        "        # output dim = 5 channels, with image size 13 x 13\n",
        "        self.relu = nn.ReLU()\n",
        "\n",
        "        # Convolution Block 2 ... Feel free to add 1 - 2 more convolution blocks\n",
        "        self.conv2 = nn.Conv2d(in_channels=5, out_channels=10, kernel_size=3, stride=1)\n",
        "        self.mp2 = nn.MaxPool2d(kernel_size=2)\n",
        "        # input dim = 5 channels, with image size 13 x 13\n",
        "        # output dim = 10 channels, with image size 12 x 12\n",
        "\n",
        "        # 2. Flatten the 2D image into a 1D tensor\n",
        "        self.flatten = nn.Flatten()\n",
        "\n",
        "        # 3. Initialize 1-3 fully-connected layers\n",
        "        self.fc1 = nn.Linear(in_features=250, out_features=100)\n",
        "        self.fc2 = nn.Linear(in_features=100, out_features=50)\n",
        "\n",
        "        # END TODO\n",
        "\n",
        "    def forward(self, x):\n",
        "        # TODO\n",
        "\n",
        "        # 1. Pass the images (x) through convolution block 1 and (block 2, 3 if you have built them)\n",
        "        outputs = self.conv1(x)\n",
        "        outputs = self.mp1(outputs)\n",
        "        outputs = self.relu(outputs)\n",
        "        outputs = self.conv2(outputs)\n",
        "        outputs = self.mp2(outputs)\n",
        "        outputs = self.relu(outputs)\n",
        "\n",
        "        # 2. Flatten the image\n",
        "        outputs = self.flatten(outputs)\n",
        "\n",
        "        # 3. Pass the output through the fully-connected layers (remember to build in an activation functions)\n",
        "        outputs = self.relu(self.fc1(outputs))\n",
        "        outputs = self.relu(self.fc2(outputs))\n",
        "\n",
        "        # END TODO\n",
        "        return outputs"
      ],
      "metadata": {
        "id": "BMQPFNRPdMpF"
      },
      "execution_count": null,
      "outputs": []
    },
    {
      "cell_type": "markdown",
      "source": [
        "Let's print out the model summary"
      ],
      "metadata": {
        "id": "GdG6BV_NdYIo"
      }
    },
    {
      "cell_type": "code",
      "source": [
        "CNN()"
      ],
      "metadata": {
        "id": "U60YI6urdV2j",
        "colab": {
          "base_uri": "https://localhost:8080/"
        },
        "outputId": "7c03caf3-cbde-434b-ca9b-9ddc5a07b29f"
      },
      "execution_count": null,
      "outputs": [
        {
          "output_type": "execute_result",
          "data": {
            "text/plain": [
              "CNN(\n",
              "  (conv1): Conv2d(1, 5, kernel_size=(3, 3), stride=(1, 1))\n",
              "  (mp1): MaxPool2d(kernel_size=2, stride=2, padding=0, dilation=1, ceil_mode=False)\n",
              "  (relu): ReLU()\n",
              "  (conv2): Conv2d(5, 10, kernel_size=(3, 3), stride=(1, 1))\n",
              "  (mp2): MaxPool2d(kernel_size=2, stride=2, padding=0, dilation=1, ceil_mode=False)\n",
              "  (flatten): Flatten(start_dim=1, end_dim=-1)\n",
              "  (fc1): Linear(in_features=250, out_features=100, bias=True)\n",
              "  (fc2): Linear(in_features=100, out_features=50, bias=True)\n",
              ")"
            ]
          },
          "metadata": {},
          "execution_count": 77
        }
      ]
    },
    {
      "cell_type": "code",
      "source": [
        "#Grader Cell (12 points)\n",
        "grader.grade(test_case_id = 'cnn_model', answer = str(CNN()))"
      ],
      "metadata": {
        "id": "whU9RJdgdeEU",
        "colab": {
          "base_uri": "https://localhost:8080/"
        },
        "outputId": "cf332917-fcf0-42cb-f572-3bea4c2b00fd"
      },
      "execution_count": null,
      "outputs": [
        {
          "output_type": "stream",
          "name": "stdout",
          "text": [
            "Correct! You earned 12/12 points. You are a star!\n",
            "\n",
            "Your submission has been successfully recorded in the gradebook.\n"
          ]
        }
      ]
    },
    {
      "cell_type": "markdown",
      "source": [
        "## 2.3 Model Training (10 Points)"
      ],
      "metadata": {
        "id": "5zjSDqsG1ejG"
      }
    },
    {
      "cell_type": "markdown",
      "source": [
        "### 2.3.1 Training CNN Model (10 Points)\n",
        "\n",
        "---\n",
        "**TODOs**\n",
        "1.   Instantiate the CNN to the variable `cnn` (make sure to send this to the device env)\n",
        "2.   Set the criterion as a CrossEntropyLoss (you can look up the documentation [here](https://pytorch.org/docs/stable/nn.html#loss-functions)). CrossEntropyLoss works well for multi-class classification because it’s designed to handle probability distributions. It’s commonly used with outputs from a softmax layer, where the model produces probabilities for each class.\n",
        "3.   Fill in the missing parts in the training loop.\n",
        "4.   Calculate training accuracy for each epoch (should multiply by 100 to get percentage), store in variable called `accuracy`.\n",
        "5.   Save the Training Accuracy for every epoch into `acc_LIST_CNN`\n",
        "6.   Save the Average Loss for every epoch into `loss_LIST_CNN`\n",
        "\n",
        "**Please do not modify the following set ups: **\n",
        "- Optimizer: The optimizer is set as \"Adam\".\n",
        "- Epoch: The epoch is set to \"10\".\n",
        "\n",
        "---\n",
        "\n",
        "**Hint:** Remember to update the weights correctly by backpropagation, please zero out the gradients by calling `optimizer.zero_grad()` every time you call `backward()`. Please review the `Recitation 10` for detailed instructions on how to perform these operations.\n",
        "\n",
        "**Note 1**: If the loss went up during the training, there is something wrong with the model, so you should check if the model is implemented correctly.\n",
        "\n",
        "**Note 2**: Typical training time takes between 5 - 10 mins.\n",
        "\n",
        "**Note 3**: `acc_LIST_CNN` and `loss_LIST_CNN` should contain data of type float not tensor."
      ],
      "metadata": {
        "id": "eKCIm4Njde6o"
      }
    },
    {
      "cell_type": "code",
      "source": [
        "%%time\n",
        "# Sending the data to device (CPU or GPU)\n",
        "# TODO\n",
        "cnn = CNN().to(device)\n",
        "criterion = nn.CrossEntropyLoss()\n",
        "# END TODO\n",
        "optimizer = optim.Adam(cnn.parameters(), lr=1e-4) #lr - learning step\n",
        "epoch = 10\n",
        "\n",
        "acc_LIST_CNN = []\n",
        "loss_LIST_CNN = []\n",
        "\n",
        "# Train the CNN\n",
        "for epoch in range(epoch):\n",
        "  running_loss = 0.0\n",
        "  correct = 0\n",
        "  total = 0\n",
        "  for inputs, labels in train_loader:\n",
        "      labels = labels.type(torch.LongTensor) # Cast to Float\n",
        "      inputs, labels = inputs.to(device), labels.to(device)\n",
        "      # TODO\n",
        "      # Step 1: Reset the optimizer tensor gradient every mini-batch\n",
        "      optimizer.zero_grad()\n",
        "\n",
        "      # Step 2: Feed the network the train data\n",
        "      outputs = cnn(inputs)\n",
        "      # Step 3: Get the prediction using argmax\n",
        "      predictions = torch.argmax(outputs, dim=1)\n",
        "\n",
        "      # Step 4: Find average loss for one mini-batch of inputs\n",
        "      loss = criterion(outputs, labels)\n",
        "\n",
        "      # Step 5: Do a back propagation\n",
        "      loss.backward()\n",
        "\n",
        "      # Step 6: Update the weight using the gradients from back propagation by learning step\n",
        "      optimizer.step()\n",
        "\n",
        "      # Step 7: Get loss and add to accumulated loss for each epoch\n",
        "      running_loss += loss.item()\n",
        "\n",
        "      # Step 8: Get number of correct prediction and increment the number of correct and total predictions after this batch\n",
        "      # Hint: we need to detach the numbers from GPU to CPU, which stores accuracy and loss\n",
        "      correct += (predictions == labels).sum().detach().cpu().numpy()\n",
        "      total += len(labels)\n",
        "\n",
        "  # Step 9: Calculate training accuracy for each epoch (should multiply by 100 to get percentage), store in variable called 'accuracy', and add to acc_LIST_CNN\n",
        "  accuracy = (correct/total) * 100\n",
        "  acc_LIST_CNN.append(accuracy)\n",
        "\n",
        "  # Step 10: Get average loss for each epoch and add to loss_LIST_CNN\n",
        "  loss_LIST_CNN.append(running_loss / len(train_loader))\n",
        "\n",
        "  # END TODO\n",
        "\n",
        "  # print statistics\n",
        "  print(\"The loss for Epoch {} is: {}, Accuracy = {}\".format(epoch, running_loss/len(train_loader), accuracy))\n"
      ],
      "metadata": {
        "id": "TeGMpC1mdkc1",
        "colab": {
          "base_uri": "https://localhost:8080/"
        },
        "outputId": "e46be9f2-4b50-4e34-84d9-b696d80c7b20"
      },
      "execution_count": null,
      "outputs": [
        {
          "output_type": "stream",
          "name": "stdout",
          "text": [
            "The loss for Epoch 0 is: 2.3003383394497545, Accuracy = 35.45333333333333\n",
            "The loss for Epoch 1 is: 1.1982160712610175, Accuracy = 63.17333333333334\n",
            "The loss for Epoch 2 is: 0.9717692981905012, Accuracy = 69.64\n",
            "The loss for Epoch 3 is: 0.8411810989064703, Accuracy = 73.80333333333333\n",
            "The loss for Epoch 4 is: 0.7349847025835692, Accuracy = 77.11333333333333\n",
            "The loss for Epoch 5 is: 0.6519199607214694, Accuracy = 79.96666666666667\n",
            "The loss for Epoch 6 is: 0.5974982574677417, Accuracy = 81.62666666666667\n",
            "The loss for Epoch 7 is: 0.5388210373900847, Accuracy = 83.34\n",
            "The loss for Epoch 8 is: 0.49957758575868505, Accuracy = 84.70333333333333\n"
          ]
        }
      ]
    },
    {
      "cell_type": "code",
      "source": [
        "# (if applicable)\n",
        "# In order to pass the AutoGrader, every element in \"acc_LIST_CNN\" should be a float.\n",
        "# If the elements are of type \"Tensor\", convert each element into type FLOAT by using .item() or .tolist()\n",
        "# To check if each element is a Tensor, print out \"acc_LIST_CNN\" and see if there is a Tensor() wrapped around each element.\n",
        "acc_LIST_CNN = [x.item() for x in acc_LIST_CNN]\n"
      ],
      "metadata": {
        "id": "phuhAZfddn14"
      },
      "execution_count": null,
      "outputs": []
    },
    {
      "cell_type": "code",
      "source": [
        "#Grader Cell (10 points)\n",
        "grader.grade(test_case_id = 'cnn_train_loss', answer = (acc_LIST_CNN, loss_LIST_CNN))"
      ],
      "metadata": {
        "id": "Nl32l2q4dqVj",
        "colab": {
          "base_uri": "https://localhost:8080/"
        },
        "outputId": "92e57eb5-facc-49a7-a5a3-7cc115bd8ad9"
      },
      "execution_count": null,
      "outputs": [
        {
          "output_type": "stream",
          "name": "stdout",
          "text": [
            "Correct! You earned 10/10 points. You are a star!\n",
            "\n",
            "Your submission has been successfully recorded in the gradebook.\n"
          ]
        }
      ]
    },
    {
      "cell_type": "markdown",
      "source": [
        "## 2.4 Model Testing (2 Points)"
      ],
      "metadata": {
        "id": "NwOzM6ky12c2"
      }
    },
    {
      "cell_type": "markdown",
      "source": [
        "### 2.4.1 CNN Model Test Accuracy (2 points)\n",
        "\n",
        "---\n",
        "**TODO:**\n",
        "Calculate the Test Accuracy for the CNN Model we trained above. Save it to the variable named `test_acc_CNN`.\n",
        "Note: Please do not use .item() before the printing statement.\n",
        "\n",
        "---"
      ],
      "metadata": {
        "id": "DOJJtER9djWG"
      }
    },
    {
      "cell_type": "code",
      "source": [
        "# TODO\n",
        "total = 0\n",
        "correct = 0\n",
        "with torch.no_grad():\n",
        "    for images, labels in test_loader:\n",
        "        labels = labels.type(torch.LongTensor) # Cast to Float\n",
        "        images, labels = images.to(device), labels.to(device)\n",
        "        # TODO\n",
        "        # Get the output\n",
        "        outputs = cnn(images)\n",
        "        # Get the prediction using argmax\n",
        "        predictions = torch.argmax(outputs, dim=1)\n",
        "        # Get number of correct prediction and add to correct and total\n",
        "        correct += (predictions == labels).sum().detach().cpu().numpy()\n",
        "        total += len(labels)\n",
        "\n",
        "# Calculate test accuracy for CNN (should multiple by 100)\n",
        "test_acc_CNN = 100 * correct / total\n",
        "# TODO END\n",
        "\n",
        "print(f'Test Accuracy: ' + str(test_acc_CNN.item()))"
      ],
      "metadata": {
        "id": "uXRWIlIKdnOr",
        "colab": {
          "base_uri": "https://localhost:8080/"
        },
        "outputId": "ec3971b1-4f52-4547-f610-1016ed75ef2d"
      },
      "execution_count": null,
      "outputs": [
        {
          "output_type": "stream",
          "name": "stdout",
          "text": [
            "Test Accuracy: 86.68\n"
          ]
        }
      ]
    },
    {
      "cell_type": "code",
      "source": [
        "#Grader Cell (2 points)\n",
        "grader.grade(test_case_id = 'cnn_test_acc', answer = (test_acc_CNN.item()))"
      ],
      "metadata": {
        "id": "jwpZCJgRdizu",
        "colab": {
          "base_uri": "https://localhost:8080/"
        },
        "outputId": "dd7a7818-324f-41bf-90b9-51b207b6c640"
      },
      "execution_count": null,
      "outputs": [
        {
          "output_type": "stream",
          "name": "stdout",
          "text": [
            "Correct! You earned 2/2 points. You are a star!\n",
            "\n",
            "Your submission has been successfully recorded in the gradebook.\n"
          ]
        }
      ]
    },
    {
      "cell_type": "markdown",
      "source": [
        "## 2.5.1 Reflection (1 Point)"
      ],
      "metadata": {
        "id": "qdUlmPNfyNlZ"
      }
    },
    {
      "cell_type": "markdown",
      "source": [
        "[Multiple Choice Question] Considering the total time used for training the CNN, would it be efficient to use cross-validation in this case?\n",
        "\n",
        "A. Yes\n",
        "B. No"
      ],
      "metadata": {
        "id": "w_z2l9_CyLeC"
      }
    },
    {
      "cell_type": "code",
      "source": [
        "# TODO\n",
        "your_choice = \"B\"\n",
        "# TODO END"
      ],
      "metadata": {
        "id": "9-ftTfw3yPy-"
      },
      "execution_count": null,
      "outputs": []
    },
    {
      "cell_type": "code",
      "source": [
        "#Grader Cell (2 points)\n",
        "grader.grade(test_case_id = 'reflection', answer = your_choice)"
      ],
      "metadata": {
        "id": "BaqcH2DsyTfI",
        "colab": {
          "base_uri": "https://localhost:8080/"
        },
        "outputId": "bd305a5e-8520-4f03-9ce9-5c0ad3f3f87d"
      },
      "execution_count": null,
      "outputs": [
        {
          "output_type": "stream",
          "name": "stdout",
          "text": [
            "Correct! You earned 1/1 points. You are a star!\n",
            "\n",
            "Your submission has been successfully recorded in the gradebook.\n"
          ]
        }
      ]
    },
    {
      "cell_type": "markdown",
      "source": [
        "# PART III: Natural Language Processing (19 Points)"
      ],
      "metadata": {
        "id": "BaP6Kv8RH6BY"
      }
    },
    {
      "cell_type": "markdown",
      "source": [
        "Whew! That was tough. Stay with us for a little more. In this section, we’ll use Natural Language Processing ([NLP](https://www.geeksforgeeks.org/natural-language-processing-overview/)) techniques to classify the sentiments of IMDB reviews. We will use a pre-trained transformer model from Hugging Face for embedding generation and train a classifier using scikit."
      ],
      "metadata": {
        "id": "rsk4FX3eNuzZ"
      }
    },
    {
      "cell_type": "markdown",
      "source": [
        "First let's load the data from Kaggle. Run the cell below to import the dataset."
      ],
      "metadata": {
        "id": "jwHWwI2kQwEp"
      }
    },
    {
      "cell_type": "code",
      "source": [
        "import kagglehub\n",
        "\n",
        "path = kagglehub.dataset_download(\"lakshmi25npathi/imdb-dataset-of-50k-movie-reviews\")\n",
        "imdb_df = pd.read_csv(f\"{path}/IMDB Dataset.csv\")"
      ],
      "metadata": {
        "id": "E6SOy5h7Q1vv",
        "colab": {
          "base_uri": "https://localhost:8080/"
        },
        "outputId": "286a52a7-4602-4d64-c4ad-9c75927d0f2b"
      },
      "execution_count": null,
      "outputs": [
        {
          "output_type": "stream",
          "name": "stdout",
          "text": [
            "Warning: Looks like you're using an outdated `kagglehub` version, please consider updating (latest version: 0.3.4)\n",
            "Downloading from https://www.kaggle.com/api/v1/datasets/download/lakshmi25npathi/imdb-dataset-of-50k-movie-reviews?dataset_version_number=1...\n"
          ]
        },
        {
          "output_type": "stream",
          "name": "stderr",
          "text": [
            "100%|██████████| 25.7M/25.7M [00:00<00:00, 184MB/s]"
          ]
        },
        {
          "output_type": "stream",
          "name": "stdout",
          "text": [
            "Extracting files...\n"
          ]
        },
        {
          "output_type": "stream",
          "name": "stderr",
          "text": [
            "\n"
          ]
        }
      ]
    },
    {
      "cell_type": "markdown",
      "source": [
        "## 3.1 Preprocessing the Data (7 points)"
      ],
      "metadata": {
        "id": "C1U9qK0aTHUA"
      }
    },
    {
      "cell_type": "markdown",
      "source": [
        "### 3.1.1 Prepare the Data (1 points)"
      ],
      "metadata": {
        "id": "9YHTz_u4eIjH"
      }
    },
    {
      "cell_type": "markdown",
      "source": [
        "The dataset that we downloaded above is very large and has 50,000 reviews. To train our model on the data in reasonable time, we will not be using all of them."
      ],
      "metadata": {
        "id": "Cehm2IP1fSh4"
      }
    },
    {
      "cell_type": "markdown",
      "source": [
        "**TODOS**\n",
        "\n",
        "1. Select the first 3,000 reviews\n",
        "2. Lowercase the **review** column"
      ],
      "metadata": {
        "id": "olGnTbPcTRbO"
      }
    },
    {
      "cell_type": "code",
      "source": [
        "# TODO\n",
        "# 1. Select the first 3000 reviews\n",
        "# 2. Lowercase the review column\n",
        "\n",
        "imdb_df = imdb_df.head(3000)\n",
        "imdb_df['review'] = imdb_df['review'].str.lower()\n",
        "\n",
        "print(imdb_df['review'].head(10))\n",
        "\n",
        "# TODO END"
      ],
      "metadata": {
        "id": "Ypd1RcegTQub",
        "colab": {
          "base_uri": "https://localhost:8080/"
        },
        "outputId": "959ff66f-5e2f-4a80-b33c-98f9a9100dd3"
      },
      "execution_count": null,
      "outputs": [
        {
          "output_type": "stream",
          "name": "stdout",
          "text": [
            "0    one of the other reviewers has mentioned that ...\n",
            "1    a wonderful little production. <br /><br />the...\n",
            "2    i thought this was a wonderful way to spend ti...\n",
            "3    basically there's a family where a little boy ...\n",
            "4    petter mattei's \"love in the time of money\" is...\n",
            "5    probably my all-time favorite movie, a story o...\n",
            "6    i sure would like to see a resurrection of a u...\n",
            "7    this show was an amazing, fresh & innovative i...\n",
            "8    encouraged by the positive comments about this...\n",
            "9    if you like original gut wrenching laughter yo...\n",
            "Name: review, dtype: object\n"
          ]
        },
        {
          "output_type": "stream",
          "name": "stderr",
          "text": [
            "<ipython-input-87-c22e55d10b85>:6: SettingWithCopyWarning: \n",
            "A value is trying to be set on a copy of a slice from a DataFrame.\n",
            "Try using .loc[row_indexer,col_indexer] = value instead\n",
            "\n",
            "See the caveats in the documentation: https://pandas.pydata.org/pandas-docs/stable/user_guide/indexing.html#returning-a-view-versus-a-copy\n",
            "  imdb_df['review'] = imdb_df['review'].str.lower()\n"
          ]
        }
      ]
    },
    {
      "cell_type": "code",
      "source": [
        "#Grader Cell (1 points)\n",
        "grader.grade(test_case_id = 'test_preprocessing', answer = imdb_df)"
      ],
      "metadata": {
        "id": "zooEKTKacvyU",
        "colab": {
          "base_uri": "https://localhost:8080/"
        },
        "outputId": "7e5a0937-28b7-4113-a932-768f687200ee"
      },
      "execution_count": null,
      "outputs": [
        {
          "output_type": "stream",
          "name": "stdout",
          "text": [
            "Correct! You earned 1/1 points. You are a star!\n",
            "\n",
            "Your submission has been successfully recorded in the gradebook.\n"
          ]
        }
      ]
    },
    {
      "cell_type": "markdown",
      "source": [
        "### 3.1.2 Removing HTML tags from the text (2 points)"
      ],
      "metadata": {
        "id": "hBj8qXCUtRmf"
      }
    },
    {
      "cell_type": "markdown",
      "source": [
        "HTML tags are often present in datasets that have been scraped from the web. We want to remove them because they do not add much value when analyzing sentiment.\n",
        "\n",
        "**TODOS**\n",
        "\n",
        "1. Remove HTML tags from the reviews (think back to the first half of the semester)"
      ],
      "metadata": {
        "id": "j2nbsqFYtaRl"
      }
    },
    {
      "cell_type": "code",
      "source": [
        "# TODO\n",
        "# Remove HTML tags from the reviews\n",
        "imdb_df['review'] = imdb_df['review'].str.replace(r'<.*?>', '', regex=True)"
      ],
      "metadata": {
        "id": "LB3vIXV0r46M"
      },
      "execution_count": null,
      "outputs": []
    },
    {
      "cell_type": "code",
      "source": [
        "#Grader Cell (2 points)\n",
        "grader.grade(test_case_id = 'test_remove_html_tags', answer = imdb_df)"
      ],
      "metadata": {
        "id": "DsJMFEnPc8fk",
        "colab": {
          "base_uri": "https://localhost:8080/"
        },
        "outputId": "b4b53851-061c-4b5d-ee5b-ab7e71e3c143"
      },
      "execution_count": null,
      "outputs": [
        {
          "output_type": "stream",
          "name": "stdout",
          "text": [
            "Correct! You earned 2/2 points. You are a star!\n",
            "\n",
            "Your submission has been successfully recorded in the gradebook.\n"
          ]
        }
      ]
    },
    {
      "cell_type": "markdown",
      "source": [
        "### 3.1.3 Removing stopwords (2 points)"
      ],
      "metadata": {
        "id": "cSKhb893tt9c"
      }
    },
    {
      "cell_type": "markdown",
      "source": [
        "Stopwords are words that have little to no significance when constructing meaningful features from text. For example words like \"a\", \"is\", \"the\", etc. are all stop words. There isn't one unified list of stopwords, but here, we use stopwords as defined in [NLTK](https://www.nltk.org/). Stopwords are stored in the array `stopwords` defined in Part 0."
      ],
      "metadata": {
        "id": "LsLvnYWst0IM"
      }
    },
    {
      "cell_type": "code",
      "source": [
        "# TODO\n",
        "# Remove stopwords from the reviews\n",
        "imdb_df['review'] = imdb_df['review'].apply(lambda x: ' '.join([word for word in x.split() if word not in (stopwords)]))"
      ],
      "metadata": {
        "id": "iQkF5szAsKMz"
      },
      "execution_count": null,
      "outputs": []
    },
    {
      "cell_type": "code",
      "source": [
        "#Grader Cell (2 points)\n",
        "grader.grade(test_case_id = 'test_remove_stopwords', answer = imdb_df)"
      ],
      "metadata": {
        "id": "SJm54PdpdBLo",
        "colab": {
          "base_uri": "https://localhost:8080/"
        },
        "outputId": "4bd5b573-ed39-4aa6-856c-b32fc25942b1"
      },
      "execution_count": null,
      "outputs": [
        {
          "output_type": "stream",
          "name": "stdout",
          "text": [
            "Correct! You earned 2/2 points. You are a star!\n",
            "\n",
            "Your submission has been successfully recorded in the gradebook.\n"
          ]
        }
      ]
    },
    {
      "cell_type": "markdown",
      "source": [
        "### 3.1.4 Splitting the data into Test/Train (2 points)"
      ],
      "metadata": {
        "id": "kl-7H6KE3o3l"
      }
    },
    {
      "cell_type": "markdown",
      "source": [
        "Finally, you should split the data into training samples and testing samples (use an 80-20 split)"
      ],
      "metadata": {
        "id": "nwko5mrz3urG"
      }
    },
    {
      "cell_type": "code",
      "source": [
        "# TODO\n",
        "# Split the data into train and test samples\n",
        "X_train, X_test, y_train, y_test = train_test_split(imdb_df['review'], imdb_df['sentiment'], test_size=0.2, random_state=42)"
      ],
      "metadata": {
        "id": "-SCc8Jj83tsl"
      },
      "execution_count": null,
      "outputs": []
    },
    {
      "cell_type": "code",
      "source": [
        "#Grader Cell (2 points)\n",
        "grader.grade(test_case_id = 'test_train_test_split', answer = (X_train, X_test, y_train, y_test))"
      ],
      "metadata": {
        "id": "gDAegHjDdEaf",
        "colab": {
          "base_uri": "https://localhost:8080/"
        },
        "outputId": "176728a8-91d1-4b61-b5f1-2a3500e21911"
      },
      "execution_count": null,
      "outputs": [
        {
          "output_type": "stream",
          "name": "stdout",
          "text": [
            "Correct! You earned 2/2 points. You are a star!\n",
            "\n",
            "Your submission has been successfully recorded in the gradebook.\n"
          ]
        }
      ]
    },
    {
      "cell_type": "markdown",
      "source": [
        "## 3.2 Generating Embeddings (8 points)"
      ],
      "metadata": {
        "id": "2ooy0BuJg4SV"
      }
    },
    {
      "cell_type": "markdown",
      "source": [
        "Before we get to coding, I guess a question you lot are asking is **what are embeddings?**\n",
        "\n",
        "Don't worry, I got you.\n",
        "\n",
        "Embeddings are basically a way to transform text data into numerical representations that machine learning models can understand. The reason we use them is that raw text cannot be directly fed into most ML algorithms - they require numerical inputs. There are many traditional methods of generating embeddings like Word2Vec or GloVe. However, they only generate static embeddings."
      ],
      "metadata": {
        "id": "w9XbtJmahslW"
      }
    },
    {
      "cell_type": "markdown",
      "source": [
        "**BERT** (a transformer based model - **what's a transformer?** you should've went to class, naughty) on the other hand, creates contextual embeddings. What that means is that the meaning of a word changes depending on the surrounding words. The word \"bank\" for example, will have different embeddings in \"river bank\" and \"money bank\"."
      ],
      "metadata": {
        "id": "JC76uvvzyIgP"
      }
    },
    {
      "cell_type": "markdown",
      "source": [
        "Let's load the DistilBERT Tokenizer and Model (DistilBERT is a smaller version of BERT)."
      ],
      "metadata": {
        "id": "uDxlsUIqyx1u"
      }
    },
    {
      "cell_type": "code",
      "source": [
        "# DO NOT MODIFY\n",
        "\n",
        "from transformers import DistilBertTokenizer, DistilBertModel\n",
        "\n",
        "# Load the tokenizer and model from Hugging Face\n",
        "tokenizer = DistilBertTokenizer.from_pretrained('distilbert-base-uncased')\n",
        "model = DistilBertModel.from_pretrained('distilbert-base-uncased')\n",
        "\n",
        "# Set the model to evaluation mode (this speeds up processing)\n",
        "model.eval()"
      ],
      "metadata": {
        "id": "rtg7vNQy94Eq",
        "colab": {
          "base_uri": "https://localhost:8080/",
          "height": 802,
          "referenced_widgets": [
            "c6e754e2848944459ec5d1907075776a",
            "eedede5a747d4c3aa42dfdc28c58d2fc",
            "b86c52cf0fc94185838cf1161aeae11d",
            "c2cdffbfd012495d88cb4ab4fc1b905a",
            "e03e08d36e564fb78a3f74302dea4641",
            "bd2c7fee01454ac6928922e9ffeed11e",
            "d432f6bc2b60443ba6506c866a661081",
            "b58050bc2cf94ca1ac0ea932bf4f10ee",
            "0487efd342154babafdf75f65c154e99",
            "c25fa2148ea54494a221b1cc136e4670",
            "edd68eb5fbb547a1ab21fb7c41e087dd",
            "9b18dcece9544271a13a363a32196d7a",
            "e36ccd243ae940259379e906b60a06c0",
            "19dcc8fdf0324587b84b04d666e71584",
            "3d2a2f76aea444b6869a19afeb336a0c",
            "cf9dd514d64245d8aaf37d4b9477609f",
            "e047f67d80f44a5dac5d879281c49c1a",
            "6648238531c44ce2ac61c30b6bc57a19",
            "8536d367477f436ca664ff146b3e8a6a",
            "4f883489d7974119a24f6bf3d25fed1e",
            "fb75fb9d0a014980adf6d6f0f29c94d1",
            "4d0e254c60ac4cce9b85bf7c44b8b29d",
            "07a91f948ab8481c91ac5ae8b9b41a99",
            "48fa68ec8fa44618ae2f071d1975a36b",
            "4eb3bcda8a47432481cba917ecac4cba",
            "0769d6548c744dc7b619070739a88d4b",
            "3f4b4e7af9b74002aedc995d9b7d52d6",
            "7125f9258ccc496d960a5c4329a89ad9",
            "25e1dcf374644d6f9c22b720bc7e95f8",
            "8511128b2a794ecd83ee5d39cb8753a2",
            "0e149188fdf94083ac31ce00fb0ba0ef",
            "cdceb933aa4c45168fb699b7b58a2fc9",
            "129fbb48538e4e758a6f866a0892df1f",
            "4439887745304de4ab646bd3ec5b0864",
            "2120a61159ef4ddcab1ac7de40428cd2",
            "b6586269379f40899745534f1cec3942",
            "8164bf34b61d459a8ffd5f94bf1e9957",
            "b1b54aa5f0a4422eb8e71c9ea5383a8f",
            "42bf3828b3864fe7a86c599b8913c5d8",
            "4a72f8a9ac51477e95543bec417faa3e",
            "e752eeefb962421ba52d7e31b0827fc8",
            "27e54ba5293243e28a9a05747d25ed2d",
            "909af88669ea4e3bb387f1dc1dab83fb",
            "0af7d825b83b44219a3b5cb4fbedc3b6",
            "fdd02a79713b4ea5bf546eadbd55aec3",
            "1fde84f6ae6a4e3a8a890a865d32de63",
            "ae28608ffa8949378232fc3718263fca",
            "bba79cdb5eb145e594f8dfdffd348162",
            "4a9241df64a84211a429170dfa9fc1fe",
            "778a668924954d249f4a316c74b7b343",
            "e9087b22a8df4fa293d9c122b20bb07a",
            "5386d4d2fb074fff909ebef77bf5db95",
            "a544a3537b944d86bdbe34771b161465",
            "d3a0d38413f94e04880b80642fc12f6a",
            "eb661f894ad94ba5848d61fb240b40d4"
          ]
        },
        "outputId": "1f8f2397-766d-424d-83c6-d82245cc7d3d"
      },
      "execution_count": null,
      "outputs": [
        {
          "output_type": "stream",
          "name": "stderr",
          "text": [
            "/usr/local/lib/python3.10/dist-packages/huggingface_hub/utils/_auth.py:94: UserWarning: \n",
            "The secret `HF_TOKEN` does not exist in your Colab secrets.\n",
            "To authenticate with the Hugging Face Hub, create a token in your settings tab (https://huggingface.co/settings/tokens), set it as secret in your Google Colab and restart your session.\n",
            "You will be able to reuse this secret in all of your notebooks.\n",
            "Please note that authentication is recommended but still optional to access public models or datasets.\n",
            "  warnings.warn(\n"
          ]
        },
        {
          "output_type": "display_data",
          "data": {
            "text/plain": [
              "tokenizer_config.json:   0%|          | 0.00/48.0 [00:00<?, ?B/s]"
            ],
            "application/vnd.jupyter.widget-view+json": {
              "version_major": 2,
              "version_minor": 0,
              "model_id": "c6e754e2848944459ec5d1907075776a"
            }
          },
          "metadata": {}
        },
        {
          "output_type": "display_data",
          "data": {
            "text/plain": [
              "vocab.txt:   0%|          | 0.00/232k [00:00<?, ?B/s]"
            ],
            "application/vnd.jupyter.widget-view+json": {
              "version_major": 2,
              "version_minor": 0,
              "model_id": "9b18dcece9544271a13a363a32196d7a"
            }
          },
          "metadata": {}
        },
        {
          "output_type": "display_data",
          "data": {
            "text/plain": [
              "tokenizer.json:   0%|          | 0.00/466k [00:00<?, ?B/s]"
            ],
            "application/vnd.jupyter.widget-view+json": {
              "version_major": 2,
              "version_minor": 0,
              "model_id": "07a91f948ab8481c91ac5ae8b9b41a99"
            }
          },
          "metadata": {}
        },
        {
          "output_type": "display_data",
          "data": {
            "text/plain": [
              "config.json:   0%|          | 0.00/483 [00:00<?, ?B/s]"
            ],
            "application/vnd.jupyter.widget-view+json": {
              "version_major": 2,
              "version_minor": 0,
              "model_id": "4439887745304de4ab646bd3ec5b0864"
            }
          },
          "metadata": {}
        },
        {
          "output_type": "display_data",
          "data": {
            "text/plain": [
              "model.safetensors:   0%|          | 0.00/268M [00:00<?, ?B/s]"
            ],
            "application/vnd.jupyter.widget-view+json": {
              "version_major": 2,
              "version_minor": 0,
              "model_id": "fdd02a79713b4ea5bf546eadbd55aec3"
            }
          },
          "metadata": {}
        },
        {
          "output_type": "execute_result",
          "data": {
            "text/plain": [
              "DistilBertModel(\n",
              "  (embeddings): Embeddings(\n",
              "    (word_embeddings): Embedding(30522, 768, padding_idx=0)\n",
              "    (position_embeddings): Embedding(512, 768)\n",
              "    (LayerNorm): LayerNorm((768,), eps=1e-12, elementwise_affine=True)\n",
              "    (dropout): Dropout(p=0.1, inplace=False)\n",
              "  )\n",
              "  (transformer): Transformer(\n",
              "    (layer): ModuleList(\n",
              "      (0-5): 6 x TransformerBlock(\n",
              "        (attention): DistilBertSdpaAttention(\n",
              "          (dropout): Dropout(p=0.1, inplace=False)\n",
              "          (q_lin): Linear(in_features=768, out_features=768, bias=True)\n",
              "          (k_lin): Linear(in_features=768, out_features=768, bias=True)\n",
              "          (v_lin): Linear(in_features=768, out_features=768, bias=True)\n",
              "          (out_lin): Linear(in_features=768, out_features=768, bias=True)\n",
              "        )\n",
              "        (sa_layer_norm): LayerNorm((768,), eps=1e-12, elementwise_affine=True)\n",
              "        (ffn): FFN(\n",
              "          (dropout): Dropout(p=0.1, inplace=False)\n",
              "          (lin1): Linear(in_features=768, out_features=3072, bias=True)\n",
              "          (lin2): Linear(in_features=3072, out_features=768, bias=True)\n",
              "          (activation): GELUActivation()\n",
              "        )\n",
              "        (output_layer_norm): LayerNorm((768,), eps=1e-12, elementwise_affine=True)\n",
              "      )\n",
              "    )\n",
              "  )\n",
              ")"
            ]
          },
          "metadata": {},
          "execution_count": 95
        }
      ]
    },
    {
      "cell_type": "markdown",
      "source": [
        "Finally, the good stuff. Here you need to generate embeddings of each review so we can train our logistic regression model on it.\n",
        "\n",
        "**TODOS**\n",
        "1. Tokenize the input text, but make sure to:\n",
        "    - add special tokens\n",
        "    - set max length for padding/truncating\n",
        "    - pad sequences\n",
        "    - truncate longer texts\n",
        "    - return pytorch tensors\n",
        "   \n",
        "   Look at [this documentation](https://huggingface.co/docs/transformers/en/main_classes/tokenizer) from Hugging Face (I suggest using `tokenizer()` for tokenizing)\n",
        "2. Pass the tokenized input to the model (`input_ids` field) and extract the output embedding for the `[CLS]` token\n",
        "\n",
        "   * We use the `[CLS]` token because it represents the entire sequence and is useful for classification tasks.\n",
        "\n",
        "  **Hint:** use `.squeeze().numpy()` to turn the tensor into an array for easier handling\n",
        "\n",
        "3. Store the embeddings in a list\n",
        "4. Get the train and test embeddings"
      ],
      "metadata": {
        "id": "XFFdoMBs-F7v"
      }
    },
    {
      "cell_type": "code",
      "source": [
        "# this may take awhile to run\n",
        "def get_embeddings(texts, tokenizer, model, max_len=128):\n",
        "    embeddings = []\n",
        "\n",
        "    for text in texts:\n",
        "        # TODO: Tokenize the text\n",
        "        inputs = tokenizer(text, return_tensors=\"pt\", padding=True, truncation=True, max_length=max_len, add_special_tokens=True, return_attention_mask=True)\n",
        "\n",
        "        with torch.no_grad():\n",
        "            # TODO: Get the embeddings from the model\n",
        "            outputs = model(**inputs)\n",
        "\n",
        "            # TODO: Get the embedding of the [CLS] token and add it to our embeddings array\n",
        "            cls_embedding = outputs.last_hidden_state[:, 0, :].squeeze().numpy()\n",
        "            embeddings.append(cls_embedding)\n",
        "\n",
        "    return embeddings\n",
        "\n",
        "# TODO: get train and test embeddings\n",
        "train_embeddings = get_embeddings(X_train, tokenizer, model)\n",
        "test_embeddings = get_embeddings(X_test, tokenizer, model)\n"
      ],
      "metadata": {
        "id": "Zhh8kuOXaJOZ"
      },
      "execution_count": null,
      "outputs": []
    },
    {
      "cell_type": "code",
      "source": [
        "#Grader Cell (8 points)\n",
        "grader.grade(test_case_id = 'test_tokenization_and_cls_embedding', answer = (len(train_embeddings), len(X_train), train_embeddings[0].sum(), len(train_embeddings[0])))"
      ],
      "metadata": {
        "id": "lEVz6QpbdSYq",
        "colab": {
          "base_uri": "https://localhost:8080/"
        },
        "outputId": "aaaf7647-78d3-4464-aa14-ea7a47c1ca71"
      },
      "execution_count": null,
      "outputs": [
        {
          "output_type": "stream",
          "name": "stdout",
          "text": [
            "Correct! You earned 8/8 points. You are a star!\n",
            "\n",
            "Your submission has been successfully recorded in the gradebook.\n"
          ]
        }
      ]
    },
    {
      "cell_type": "markdown",
      "source": [
        "## 3.3 Training a classifier on the embeddings (4 points)"
      ],
      "metadata": {
        "id": "dlK4jMLJCkZI"
      }
    },
    {
      "cell_type": "markdown",
      "source": [
        "### 3.3.1 Logistic Regression (3 points)"
      ],
      "metadata": {
        "id": "6w6HaMQmCqRJ"
      }
    },
    {
      "cell_type": "markdown",
      "source": [
        "Finally, we can train a Logistic Regression model on the embeddings that we generated in the previous section.\n",
        "\n",
        "**TODOS**\n",
        "\n",
        "1. Fit a Logistic Regression model on the train embeddings (experiment with `max_iters` if you're getting a low accuracy score)\n",
        "2. Get the predictions from the test embeddings\n",
        "3. Calculate the accuracy score `acc_score` of your predictions"
      ],
      "metadata": {
        "id": "_UmZ2cGpCtcn"
      }
    },
    {
      "cell_type": "code",
      "source": [
        "# TODO\n",
        "# Fit a Logistic Regression model\n",
        "# Get predictions\n",
        "\n",
        "lr = LogisticRegression()\n",
        "lr.fit(train_embeddings, y_train)\n",
        "predictions = lr.predict(test_embeddings)\n",
        "\n",
        "acc_score = accuracy_score(y_test, predictions)\n",
        "\n",
        "print(acc_score)"
      ],
      "metadata": {
        "id": "X8DK-it3aM_p",
        "colab": {
          "base_uri": "https://localhost:8080/"
        },
        "outputId": "cbd5a8fc-5270-4f32-81cb-be70c023e706"
      },
      "execution_count": null,
      "outputs": [
        {
          "output_type": "stream",
          "name": "stdout",
          "text": [
            "0.7933333333333333\n"
          ]
        },
        {
          "output_type": "stream",
          "name": "stderr",
          "text": [
            "/usr/local/lib/python3.10/dist-packages/sklearn/linear_model/_logistic.py:469: ConvergenceWarning: lbfgs failed to converge (status=1):\n",
            "STOP: TOTAL NO. of ITERATIONS REACHED LIMIT.\n",
            "\n",
            "Increase the number of iterations (max_iter) or scale the data as shown in:\n",
            "    https://scikit-learn.org/stable/modules/preprocessing.html\n",
            "Please also refer to the documentation for alternative solver options:\n",
            "    https://scikit-learn.org/stable/modules/linear_model.html#logistic-regression\n",
            "  n_iter_i = _check_optimize_result(\n"
          ]
        }
      ]
    },
    {
      "cell_type": "code",
      "source": [
        "#Grader Cell (3 points)\n",
        "grader.grade(test_case_id = 'test_logreg', answer = (len(y_test), len(predictions), acc_score))"
      ],
      "metadata": {
        "id": "uIFJoq7JfwG_",
        "colab": {
          "base_uri": "https://localhost:8080/"
        },
        "outputId": "56108cad-a111-4e77-f036-c587610faf01"
      },
      "execution_count": null,
      "outputs": [
        {
          "output_type": "stream",
          "name": "stdout",
          "text": [
            "Correct! You earned 3/3 points. You are a star!\n",
            "\n",
            "Your submission has been successfully recorded in the gradebook.\n"
          ]
        }
      ]
    },
    {
      "cell_type": "markdown",
      "source": [
        "### 3.3.2 Classification Report (Manually Graded 1 point)"
      ],
      "metadata": {
        "id": "N5Z4pAMcC-Le"
      }
    },
    {
      "cell_type": "markdown",
      "source": [
        "Run the cell below to see the performance of our trained model. As you can see that it doesn't perform as well as we want it to. This is a good start but there's room for improvement. One thing that we could do is:\n",
        "\n",
        "- We can fine-tune DistilBERT on the specific dataset to improve performance\n"
      ],
      "metadata": {
        "id": "l5t7cTQyDDrO"
      }
    },
    {
      "cell_type": "code",
      "source": [
        "print(classification_report(y_test, predictions))"
      ],
      "metadata": {
        "id": "QI2WdliWD50r",
        "colab": {
          "base_uri": "https://localhost:8080/"
        },
        "outputId": "f1cba5a3-7246-4cd1-b8d9-77657211e499"
      },
      "execution_count": null,
      "outputs": [
        {
          "output_type": "stream",
          "name": "stdout",
          "text": [
            "              precision    recall  f1-score   support\n",
            "\n",
            "    negative       0.80      0.81      0.81       316\n",
            "    positive       0.79      0.77      0.78       284\n",
            "\n",
            "    accuracy                           0.79       600\n",
            "   macro avg       0.79      0.79      0.79       600\n",
            "weighted avg       0.79      0.79      0.79       600\n",
            "\n"
          ]
        }
      ]
    },
    {
      "cell_type": "markdown",
      "source": [
        "What are some other strategies we could use to improve performance? Fill in the cell below."
      ],
      "metadata": {
        "id": "xbyEOsJhWmDz"
      }
    },
    {
      "cell_type": "code",
      "source": [
        "strategies = \"\"\"\n",
        "We could have used a better trained base model from the DistilBERT one used.\n",
        "We could also use more advanced models like RandomForest and hyperparameter tuning to increase accuracy.\n",
        "Finally, we could try using different pooling strategies like mean or max pooling.\n",
        "\"\"\"\n",
        "\n",
        "print(strategies)"
      ],
      "metadata": {
        "id": "axOpH2S6WtOR",
        "colab": {
          "base_uri": "https://localhost:8080/"
        },
        "outputId": "ccd635b9-dae3-4c3e-ac2c-b8448ccbaaac"
      },
      "execution_count": null,
      "outputs": [
        {
          "output_type": "stream",
          "name": "stdout",
          "text": [
            "\n",
            "We could have used a better trained base model from the DistilBERT one used. \n",
            "We could also use more advanced models like RandomForest and hyperparameter tuning to increase accuracy.\n",
            "Finally, we could try using different pooling strategies like mean or max pooling.\n",
            "\n"
          ]
        }
      ]
    },
    {
      "cell_type": "markdown",
      "source": [
        "The above is manually graded which means.... That you're done! Good stuff."
      ],
      "metadata": {
        "id": "ySfN9_GjW3OR"
      }
    },
    {
      "cell_type": "markdown",
      "source": [
        "# Homework Submission\n",
        "\n",
        "Good job! You have finished the homework :) The submission instructions are as follows:\n",
        "\n",
        "* **Double check** that you have the correct PennID (all numbers) in the autograder.\n",
        "\n",
        "* **Triple check** that you fulfilled all the requirements mentioned in the beginning of the notebook. Particularly, that your .ipynb does not show \"Large File Hidden\" in the code tab in Gradescope.\n",
        "\n",
        "*  Go to the \"File\" tab at the top left of the Colab UI, click \"Download .ipynb\" and then \"Download .py\".  **Rename** these two files to `homework4.ipynb` and `homework4.py` respectively and upload them to Gradescope.\n",
        "\n",
        "* You must submit your notebook to receive credit. Post any issues with submission on Ed and make sure to keep in mind the late day policy.\n",
        "\n",
        "* After you submit your code, the teaching staff will manually grade your Colab notebook in order to validate the correctness of your code."
      ],
      "metadata": {
        "id": "jfH7LMHMGpgB"
      }
    }
  ]
}